{
 "cells": [
  {
   "cell_type": "code",
   "execution_count": null,
   "metadata": {
    "collapsed": true
   },
   "outputs": [],
   "source": []
  },
  {
   "cell_type": "code",
   "execution_count": null,
   "metadata": {
    "collapsed": true
   },
   "outputs": [],
   "source": []
  },
  {
   "cell_type": "markdown",
   "metadata": {},
   "source": [
    "# Cyclic Steam Injection\n",
    "In this project, we will simulate the oil production, cumulative oil production and average reservoir temperature as a function of time for several cycles. We will assume that the reservoir properties are known.\n"
   ]
  },
  {
   "cell_type": "code",
   "execution_count": 1,
   "metadata": {
    "collapsed": true
   },
   "outputs": [],
   "source": [
    "kRes = 1.5;                             % Reservoir permeability (D)\n",
    "kSteam = 2 * kRes;                      % Permeability to steam (D)\n",
    "phi = 0.32;                             % Porosity \n",
    "Swi = 0.25;                             % Initial water saturation\n",
    "rw = 0.31;                              % Well radius (ft)\n",
    "SorSteam = 0.05;                        % Residual oil saturation to steam \n",
    "SorWater = 0.25;                        % Residual oil saturation to water \n",
    "Tr = 110;                               % Initial reservoir temperature (F)\n",
    "Tstd = 60;                              % Standard temperature (F) \n",
    "lambda = 24;                            % Reservoir thermal conductivity (Btu/ft day F)\n",
    "alpha = 0.48;                           % Reservoir thermal diffusivity (ft^2/day)\n",
    "rhoOilStd = 61.8;                       % Oil density @ standard condictions (lb/ft^3)\n",
    "TimeStep = 1.0;                         % Time step size (days)\n",
    "PatternArea=0.588;                      % (acres) = well spacing of 160ft\n",
    "PayThickness = 80;                      % Pay thickness (ft)\n",
    "g = 32.17;                              % Gravitational acceleration (ft/s^2)"
   ]
  },
  {
   "cell_type": "markdown",
   "metadata": {},
   "source": [
    "The operational data is shown below:"
   ]
  },
  {
   "cell_type": "code",
   "execution_count": 2,
   "metadata": {
    "collapsed": true
   },
   "outputs": [],
   "source": [
    "SteamInjectionRate = [647 905 953 972 954 1042 1067];      % Steam injection rate (bbl/day)\n",
    "InjectionTime = [6 9 8 6 6 7 7];                           % Injection time (days)\n",
    "SoakTime = [5 2 10 12 9 10 11];                            % Soak time (days)\n",
    "DownHoleSteamTemp = [360 330 330 300 300 300 300];         % Downhole steam temperature (F)\n",
    "DownHoleSteamQuality = [0.7 0.6 0.5 0.5 0.5 0.5 0.5];      % Downhole steam quality \n",
    "ProductionTime = [55 146 79 98 135 136 148];               % Production time (days)\n",
    "WIP = 50000;                                               % Amount of mobile water in place at beginning of cycle (Assumption)\n",
    "qw = 0;                                                    % water production rate (BPD) (Assumption)\n",
    "CumulativeOil = [];                                        % Cumulative oil production (STB) \n",
    "CumulativeTime = [];                                       % Cumulative time (days) \n",
    "cycleLength = InjectionTime + SoakTime + ProductionTime;   % Total cycle time (days)\n",
    "cumulativeCycleLength = cumsum([1;cycleLength']);          % Cumulative cycle time (days) "
   ]
  },
  {
   "cell_type": "code",
   "execution_count": null,
   "metadata": {
    "collapsed": true
   },
   "outputs": [],
   "source": [
    " \n",
    "for i=1:length(SteamInjectionRate) \n",
    "        \n",
    "    t=0;                                                                   % Time at beginning of each cycle                                          \n",
    "    hwTr = 68 * ( Tr/100 )^1.24;                                           % Water enthalpy correlation for reservoir temperature (eq 16)\n",
    "    hwSteam = 68 * ( DownHoleSteamTemp(i) / 100 )^1.24;                    % Water enthalpy correlation for steam temperature (eq 16)\n",
    "    Cw = ( hwSteam - hwTr ) / ( DownHoleSteamTemp(i) - Tr );               % Specific heat of water of Jones (eq 15)         \n",
    "    Lvdh = 94 * ( 705 - DownHoleSteamTemp(i) )^0.38;                       % Steam latent heat correlation of Farouq Ali (eq 17)\n",
    "    Qi = Cw * ( DownHoleSteamTemp(i) - Tr ) +...\n",
    "        Lvdh * DownHoleSteamQuality(i);                                    % Amount of heat injected per unit mass of steam (eq 14)\n",
    "    cp = 32.5 + (4.6 * phi^0.32 - 2) * (10 * Swi - 1.5);                   % Bulk volumetric heat capacity of Jones (eq 19)  \n",
    "    pSteam = ( DownHoleSteamTemp(i) / 115.95 )^4.4543;                     % Steam pressure approximation (eq 7)\n",
    "    rhoSteam = pSteam^( 0.9588 ) / 363.9;                                  % Steam density (eq 10)\n",
    "    muSteam = 1e-4 * ( 0.2 * DownHoleSteamTemp(i) + 82 );                  % Steam viscosity (eq 11)\n",
    "    rhoOil = rhoOilStd - 0.0214 * ( Tr - Tstd );                           % Oil density approximation (eq 32)\n",
    "    rhoWater = 62.4 - 11 * log( ( 705 - Tstd ) / ( 705 - Tr ) );           % Water density approximation (eq 33)     \n",
    "    ARD = sqrt( ( 350 * 144 * SteamInjectionRate(i) * muSteam ) / ...      % Dimensionless group for scaling the radial steam zone (eq 9) \n",
    "          ( 6.328 * pi * ( rhoOil - rhoSteam ) * PayThickness^2 * ...\n",
    "          kSteam * rhoSteam ) ); \n",
    "    hSt = 0.5 * PayThickness * ARD;                                        % Average steam zone thickness by Van Lookeren (eq 8)  \n",
    "    Wp = 0.0;                                                              % Cumulative water production at beginning of cycle\n",
    "    \n",
    "    if(i~=1)    \n",
    "        Hlast = VSteam * cp * (Taverage - Tr);                             % Amount of heat in the reservoir for subsequent cycles (eq 20)\n",
    "    else\n",
    "        Hlast = 0;                                                         % Amount of heat in the reservoir before first cycle starts \n",
    "    end\n",
    "    \n",
    "    VSteam = ( SteamInjectionRate(i) * InjectionTime(i) * rhoWater * Qi... % Steam zone volume estimation (eq 13)\n",
    "        + Hlast ) / ( cp * ( DownHoleSteamTemp(i) - Tr ) );         \n",
    "    RhSteam = sqrt( VSteam / ( pi * hSt ) );                               % Steam zone radius (eq 12)\n",
    "    \n",
    "    qoPreviousCycle = zeros(cycleLength(i),1);                             % Oil rate vector     \n",
    "    TaveragePreviousCycle = zeros(cycleLength(i),1);                       % Average temperature vector\n",
    "    \n",
    "    for t = 1:cycleLength(i)                                               % Cycling through InjectionTime + SoakTime + ProductionTime\n",
    "                \n",
    "        if t <= (InjectionTime(i))                                         % Injection Interval \n",
    "            \n",
    "            Taverage = DownHoleSteamTemp(i);                               %Average temperature during injection = downhole steam temperature\n",
    "            qo = 0;\n",
    "            \n",
    "        end\n",
    "                \n",
    "        if t > InjectionTime(i) && t <= (InjectionTime(i) + SoakTime(i))   % Soak interval\n",
    "            \n",
    "           tDH = alpha * ( t - InjectionTime(i) ) / RhSteam^2;             % Vertical loss (eq 23)\n",
    "           fHD = 1 / ( 1 + 5 * tDH );                                      % Radial loss (eq 22)                           \n",
    "           tDV = 4 * alpha * ( t - InjectionTime(i) ) / PayThickness^2;    % (eq 25)       \n",
    "           fVD = 1 / sqrt( 1 + 5 * tDV );                                  % (eq 24)\n",
    "           fPD = 0;                                                        % Energy removed with produced fluids during soaking phase\n",
    "           qo = 0;                                                         % Oil rate during soaking phase\n",
    "           Taverage = Tr + ( DownHoleSteamTemp(i) ...                      % Average temperature at any time by Boberg and Lantz (eq 21)\n",
    "                    - Tr ) * ( fHD * fVD * ( 1 - fPD ) - fPD );            \n",
    "        end\n",
    "                \n",
    "        if t > (InjectionTime(i) + SoakTime(i))                            % Production Interval         \n",
    "            \n",
    "           tDH  = alpha * ( t - InjectionTime(i) ) / RhSteam^2;            % Vertical loss (eq 23)        \n",
    "           fHD = 1 / ( 1 + 5 * tDH );                                      % Radial loss (eq 22)  \n",
    "           tDV = 4 * alpha * ( t - InjectionTime(i) ) / PayThickness^2;    % (eq 25)            \n",
    "           fVD = 1 / sqrt( 1 + 5 * tDV );                                  % (eq 24)     \n",
    "           TpreviousTimeStep = Taverage;                                   % Registering average temperature from previous time step\n",
    "           Taverage = Tr + ( DownHoleSteamTemp(i) ...                      % Average temperature at any time by Boberg and Lantz (eq 21)\n",
    "                    - Tr ) * ( fHD * fVD * ( 1 - fPD ) - fPD );            \n",
    "           rhoOil = rhoOilStd - 0.0214 * ( Tr - Tstd );                    % Oil density approximation (eq 32)\n",
    "           Moil = ( 3.065 + 0.00355 * Taverage ) * sqrt( rhoOil );         % Volumetric heat capacity of oil (eq 30)\n",
    "           rhoWater = 62.4 - 11 * log( ( 705 - Tstd ) / ( 705 - Tr ) );    % Water density approximation (eq 33)   \n",
    "           Mwater = Cw * rhoWater;                                         % Volumetric heat capacity of water (eq 31)\n",
    "           Qp = 5.615 * ( qo * Moil + qw * Mwater )*( Taverage - Tr );     % Rate of heat removal from the reservoir with produced fluids (eq 29)\n",
    "           HeatInjected = 350 * Qi * SteamInjectionRate(i)...              % Amount of heat injected (eq 28)\n",
    "               * InjectionTime(i);     \n",
    "           Qmax = HeatInjected + Hlast - pi * RhSteam^2 * lambda...        % Maximum amount of heat supplied to the reservoir (eq 27) \n",
    "               * (DownHoleSteamTemp(i) - Tr) * sqrt(SoakTime(i)/(pi*alpha));      \n",
    "           deltafPD = 5.615 * ( qo * Moil + qw * Mwater )...               % (eq 35)\n",
    "                * ( TpreviousTimeStep - Tr ) * TimeStep / ( 2 * Qmax );             \n",
    "           fPD  = fPD + deltafPD;                                          % Energy removed with produced fluids (eq 34)\n",
    "           muOil = ( 2.698e-5 ) * exp( ( 1.066e+4 ) /( Taverage + 460 ));  % Oil viscosity (eq 36)               \n",
    "           Rx = sqrt( RhSteam^2 + PayThickness^2 );                        % Radial distance along the hot oil zone (eq 2)\n",
    "           sinTheta = PayThickness / Rx;                                   % theta = angle between steam-oil interface and reservoir bed (eq 5)       \n",
    "           deltaH= PayThickness - hSt;                                     % Difference between height of reservoir and steam zone thickness, (eq 6)\n",
    "           pwf = 0.6 * pSteam ;                                            % Bottom hole flowing pressure (assumption) \n",
    "           deltaPhi = deltaH * g * sinTheta + ( ( ( pSteam - pwf )...      % (eq 4)\n",
    "               * 6895 )/ ( rhoOil * 16.02 ) ) * 10.76;\n",
    "           SwBar = 1 - SorWater;                                           % Mobile water around the well (eq 38)\n",
    "           Sw = SwBar - (SwBar - Swi) * Wp / WIP;                          % Water saturation  (eq 39)\n",
    "           SwStar = (Sw - Swi)/(1 - Swi - SorWater);                       % Normalized water saturation (eq 40)\n",
    "           krw = -0.002167 * SwStar + 0.024167 * SwStar^2;                 % Water relative permeability (eq 41)\n",
    "           \n",
    "           if SwStar <= 0.2\n",
    "                kro = 1.0;                                                 % Oil relative permeability (eq 43)\n",
    "           else\n",
    "                kro = -0.9416 + 1.0808 / SwStar - 0.13858 / SwStar^2;      % Oil relative permeability (eq 42)\n",
    "           end\n",
    "           \n",
    "           deltaSo = ( 1 - Swi ) - SorSteam;                               % Change in oil saturation (eq 3)\n",
    "           nuAverage = muOil / rhoOil;                                     % Kinematic viscosity of the oil = oil viscosity/oil density     \n",
    "           qo = 1.87 * Rx * sqrt ( ( kro * kRes * phi * deltaSo...         % Oil rate (eq 1)\n",
    "               * alpha * deltaPhi )/( 2.0  *nuAverage...\n",
    "               * ( log( Rx / rw ) - 0.5 ) ) );          \n",
    "        end\n",
    "        \n",
    "        qoPreviousCycle(t) = qo; \n",
    "        TaveragePreviousCycle(t) = Taverage;                           \n",
    "                                \n",
    "    end        \n",
    "        \n",
    "    CumulativeOil = [ CumulativeOil ; qoPreviousCycle ];\n",
    "    time_range = linspace( cumulativeCycleLength(i) , cumulativeCycleLength(i+1) , (cumulativeCycleLength(i+1) - cumulativeCycleLength(i)) );        \n",
    "    CumulativeTime = [ CumulativeTime ; time_range' ];\n",
    "\n",
    "    %Plotting production\n",
    "    subplot(2,1,2)\n",
    "    plot([cumulativeCycleLength(i):1:(cumulativeCycleLength(i+1)')-1],qoPreviousCycle,'-','Color',[0 0.5 0],'LineWidth',2);\n",
    "    hold on;\n",
    "    xlabel('Days','FontSize',14,'FontWeight','bold');\n",
    "    ylabel('q_o (STB/day)','FontSize',14,'FontWeight','bold');\n",
    "    set(gca,'FontSize',14,'FontWeight','bold');\n",
    "    \n",
    "    % Plotting temperature\n",
    "    subplot(2,1,1);\n",
    "    plot([cumulativeCycleLength(i):1:(cumulativeCycleLength(i+1)')-1],TaveragePreviousCycle,'r-','LineWidth',2);\n",
    "    hold on;\n",
    "    xlabel('Days','FontSize',14,'FontWeight','bold')\n",
    "    ylabel('T_{avg}','FontSize',14,'FontWeight','bold')        \n",
    "    set(gca,'FontSize',14,'FontWeight','bold');\n",
    "\n",
    "    clear Tavg_saved qo_saved;    \n",
    "    \n",
    "end"
   ]
  },
  {
   "cell_type": "code",
   "execution_count": null,
   "metadata": {
    "collapsed": true
   },
   "outputs": [],
   "source": []
  }
 ],
 "metadata": {
  "kernelspec": {
   "display_name": "Matlab",
   "language": "matlab",
   "name": "matlab"
  },
  "language_info": {
   "file_extension": ".m",
   "help_links": [
    {
     "text": "MetaKernel Magics",
     "url": "https://github.com/calysto/metakernel/blob/master/metakernel/magics/README.md"
    }
   ],
   "mimetype": "text/x-octave",
   "name": "matlab",
   "version": "0.9.2"
  }
 },
 "nbformat": 4,
 "nbformat_minor": 0
}
