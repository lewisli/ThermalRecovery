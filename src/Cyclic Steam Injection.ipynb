{
 "cells": [
  {
   "cell_type": "markdown",
   "metadata": {},
   "source": [
    "# Cyclic Steam Injection\n",
    "\n",
    "#### Authors: Lewis Li, Daniel De Brito\n",
    "\n",
    "In this project, we will simulate the oil production, cumulative oil production and average reservoir temperature as a function of time for several cycles. We will assume that the reservoir properties are known.\n",
    "\n",
    "## Reservoir Data:"
   ]
  },
  {
   "cell_type": "code",
   "execution_count": 2,
   "metadata": {
    "collapsed": true
   },
   "outputs": [],
   "source": [
    "kRes = 1.5;                             % Reservoir permeability (D)\n",
    "kSteam = 2 * kRes;                      % Permeability to steam (D)\n",
    "phi = 0.32;                             % Porosity \n",
    "Swi = 0.25;                             % Initial water saturation\n",
    "rw = 0.31;                              % Well radius (ft)\n",
    "SorSteam = 0.05;                        % Residual oil saturation to steam \n",
    "SorWater = 0.25;                        % Residual oil saturation to water \n",
    "Tr = 110;                               % Initial reservoir temperature (F)\n",
    "Tstd = 60;                              % Standard temperature (F) \n",
    "lambda = 24;                            % Reservoir thermal conductivity (Btu/ft day F)\n",
    "alpha = 0.48;                           % Reservoir thermal diffusivity (ft^2/day)\n",
    "rhoOilStd = 61.8;                       % Oil density @ standard condictions (lb/ft^3)\n",
    "TimeStep = 1.0;                         % Time step size (days)\n",
    "PatternArea=0.588;                      % (acres) = well spacing of 160ft\n",
    "PayThickness = 80;                      % Pay thickness (ft)\n",
    "g = 32.17;                              % Gravitational acceleration (ft/s^2)"
   ]
  },
  {
   "cell_type": "markdown",
   "metadata": {},
   "source": [
    "## Operational Data\n",
    "The operational data is shown below:"
   ]
  },
  {
   "cell_type": "code",
   "execution_count": 3,
   "metadata": {
    "collapsed": true
   },
   "outputs": [],
   "source": [
    "SteamInjectionRate = [647 905 953 972 954 1042 1067];      % Steam injection rate (bbl/day)\n",
    "InjectionTime = [6 9 8 6 6 7 7];                           % Injection time (days)\n",
    "SoakTime = [5 2 10 12 9 10 11];                            % Soak time (days)\n",
    "DownHoleSteamTemp = [360 330 330 300 300 300 300];         % Downhole steam temperature (F)\n",
    "DownHoleSteamQuality = [0.7 0.6 0.5 0.5 0.5 0.5 0.5];      % Downhole steam quality \n",
    "ProductionTime = [55 146 79 98 135 136 148];               % Production time (days)\n",
    "WIP = 50000;                                               % Amount of mobile water in place at beginning of cycle (Assumption)\n",
    "qw = 0;                                                    % water production rate (BPD) (Assumption)\n",
    "CumulativeOil = [];                                        % Cumulative oil production (STB) \n",
    "CumulativeTime = [];                                       % Cumulative time (days) \n",
    "cycleLength = InjectionTime + SoakTime + ProductionTime;   % Total cycle time (days)\n",
    "cumulativeCycleLength = cumsum([1;cycleLength']);          % Cumulative cycle time (days) \n",
    "\n",
    "NumberOfCycles = length(SteamInjectionRate);"
   ]
  },
  {
   "cell_type": "markdown",
   "metadata": {},
   "source": [
    "## Cycle Initial Conditions\n",
    "For each steam cycle, we will proceed as follows. We will first demonstrate the simulation on the first cycle, then repeat for the rest of the injection cycles. We will assume that the temperature of the reservoir returns to the original reservoir temperature between each cycle, and we start by evaluating the water enthalpy correction for both the reservoir and the steam using:\n",
    "\n",
    "$$h_w = 68 \\left[ \\frac{T_s}{100} \\right]^{1.24}$$"
   ]
  },
  {
   "cell_type": "code",
   "execution_count": null,
   "metadata": {
    "collapsed": false
   },
   "outputs": [],
   "source": [
    "CurrentCycleNumber = 1;\n",
    "\n",
    "% Water enthalpy correlation for reservoir temperature (eq 16)\n",
    "hwTr = 68 * ( Tr/100 )^1.24;                                  \n",
    "\n",
    "% Water enthalpy correlation for steam temperature (eq 16)\n",
    "hwSteam = 68 * ( DownHoleSteamTemp(CurrentCycleNumber) / 100 )^1.24;   "
   ]
  },
  {
   "cell_type": "markdown",
   "metadata": {},
   "source": [
    "We next evaluate the specific heat quality of water using the Jones relation:\n",
    "$$C_w = \\frac{h_w(T_s) - h_w(T_R)}{T_s-T_R}$$"
   ]
  },
  {
   "cell_type": "code",
   "execution_count": 9,
   "metadata": {
    "collapsed": false
   },
   "outputs": [],
   "source": [
    "% Specific heat of water of Jones (eq 15)       \n",
    "Cw = ( hwSteam - hwTr ) / ( DownHoleSteamTemp(CurrentCycleNumber) - Tr );                "
   ]
  },
  {
   "cell_type": "markdown",
   "metadata": {},
   "source": [
    "We then compute the steam latent heat correction from Farouq Ali (eq 17)\n",
    "$$L_{vdh} = 94(705-T_s)^{0.38}$$ \n",
    "\n",
    "and then the amount of heat injected per unit mass of steam is:\n",
    "$$Q_i = C_w(T_s - T_R) + L_{vdh}f_{sdh}$$"
   ]
  },
  {
   "cell_type": "code",
   "execution_count": 10,
   "metadata": {
    "collapsed": false
   },
   "outputs": [],
   "source": [
    "% Steam latent heat correlation of Farouq Ali (eq 17)\n",
    "Lvdh = 94 * ( 705 - DownHoleSteamTemp(CurrentCycleNumber) )^0.38;                  \n",
    "\n",
    "% Amount of heat injected per unit mass of steam (eq 14)\n",
    "Qi = Cw * ( DownHoleSteamTemp(CurrentCycleNumber) - Tr ) +...\n",
    "        Lvdh * DownHoleSteamQuality(CurrentCycleNumber);    "
   ]
  },
  {
   "cell_type": "markdown",
   "metadata": {},
   "source": [
    "The steam properties are evaluated as:\n",
    "\n",
    "$$p_{steam} = \\left[ \\frac{T_s}{115.95}\\right]^4.4543$$\n",
    "\n",
    "$$\\rho_{steam} = \\frac{p_s^{0.9588}}{363.9}$$\n",
    "\n",
    "$$\\mu_{steam} = 10^{-4}(0.2T_s + 82)$$"
   ]
  },
  {
   "cell_type": "code",
   "execution_count": 13,
   "metadata": {
    "collapsed": false
   },
   "outputs": [],
   "source": [
    "% Steam pressure approximation (eq 7)\n",
    "pSteam = ( DownHoleSteamTemp(CurrentCycleNumber) / 115.95 )^4.4543;                 \n",
    "\n",
    "% Steam density (eq 10)\n",
    "rhoSteam = pSteam^( 0.9588 ) / 363.9;                                  \n",
    "\n",
    "% Steam viscosity (eq 11)\n",
    "muSteam = 1e-4 * ( 0.2 * DownHoleSteamTemp(CurrentCycleNumber) + 82 );                 "
   ]
  },
  {
   "cell_type": "markdown",
   "metadata": {},
   "source": [
    "The densities of oil and water are estimated as:\n",
    "$$\\rho_{o} = \\rho_{ostd} - 0.0214(T-T_{std})$$\n",
    "\n",
    "$$\\rho_{water} = 62.4 - 11 \\log \\left( \\frac{ 705 - T_{std}}{705 - T} \\right) $$"
   ]
  },
  {
   "cell_type": "code",
   "execution_count": 14,
   "metadata": {
    "collapsed": true
   },
   "outputs": [],
   "source": [
    "% Oil density approximation (eq 32)\n",
    "rhoOil = rhoOilStd - 0.0214 * ( Tr - Tstd );                           \n",
    "\n",
    "% Water density approximation (eq 33) \n",
    "rhoWater = 62.4 - 11 * log( ( 705 - Tstd ) / ( 705 - Tr ) );        "
   ]
  },
  {
   "cell_type": "markdown",
   "metadata": {},
   "source": [
    "Bulk volumetric heat capacity is evaluated as:\n",
    "\n",
    "$$(\\rho C)_t = 32.5 + (4.6 \\phi^{0.32} - 2)(10S_{wi} - 1.5)$$\n"
   ]
  },
  {
   "cell_type": "code",
   "execution_count": 15,
   "metadata": {
    "collapsed": true
   },
   "outputs": [],
   "source": [
    "% Bulk volumetric heat capacity of Jones (eq 19)  \n",
    "cp = 32.5 + (4.6 * phi^0.32 - 2) * (10 * Swi - 1.5);                  "
   ]
  },
  {
   "cell_type": "markdown",
   "metadata": {},
   "source": [
    "To estimate the steam zone thickness, we first define the dimensionaless group for scaling the radius of the steam zone:\n",
    "\n",
    "$$A_{RD} = \\sqrt{\\frac{(350)(144)Q_s\\mu_{st}}{6.328(\\rho_s - \\rho_{std})h_t^2K_{st}\\rho_{st}}}$$\n",
    "\n",
    "Average steam zone thickness by Van Lookeren is then:\n",
    "$$h_{st} = 0.5 h_t A_{rd}$$"
   ]
  },
  {
   "cell_type": "code",
   "execution_count": 17,
   "metadata": {
    "collapsed": false
   },
   "outputs": [],
   "source": [
    "% Dimensionless group for scaling the radial steam zone (eq 9) \n",
    "ARD = sqrt( ( 350 * 144 * SteamInjectionRate(CurrentCycleNumber) * muSteam ) / ...      \n",
    "          ( 6.328 * pi * ( rhoOil - rhoSteam ) * PayThickness^2 * ...\n",
    "          kSteam * rhoSteam ) ); \n",
    "% Average steam zone thickness by Van Lookeren (eq 8)            \n",
    "hSt = 0.5 * PayThickness * ARD;                                        \n",
    "\n",
    "% Cumulative water production at beginning of cycle\n",
    "Wp = 0.0;                                                              "
   ]
  },
  {
   "cell_type": "markdown",
   "metadata": {},
   "source": [
    "Evaluate how much heat is in the reservoir from previous cycles\n",
    "$$ H_{last} = V_s(\\rho C)_t(T_{avg}-T_R) $$"
   ]
  },
  {
   "cell_type": "code",
   "execution_count": null,
   "metadata": {
    "collapsed": true
   },
   "outputs": [],
   "source": [
    "if (CurrentCycleNumber == 1)\n",
    "    Hlast = 0;\n",
    "else\n",
    "    Hlast = VSteam * cp * (Taverage - Tr);  \n",
    "end"
   ]
  },
  {
   "cell_type": "markdown",
   "metadata": {},
   "source": [
    "The steam zone volume is estimated as\n",
    "$$ V_s = \\frac{Q_s t_{inj} \\rho_w Q_i + H_{last}}{(\\rho c)_t (T_s - T_R)}$$\n",
    "\n",
    "The radius of the steam zone is:\n",
    "$$R_h = \\sqrt{\\frac{V_s}{\\pi h_{st}}}$$"
   ]
  },
  {
   "cell_type": "code",
   "execution_count": 1,
   "metadata": {
    "collapsed": false
   },
   "outputs": [
    {
     "name": "stderr",
     "output_type": "stream",
     "text": [
      "Undefined function or variable 'CurrentCycleNumber'.\n"
     ]
    }
   ],
   "source": [
    "% Steam zone volume estimation (eq 13)    \n",
    "VSteam = ( SteamInjectionRate(CurrentCycleNumber) * ...\n",
    "InjectionTime(CurrentCycleNumber) * rhoWater * Qi... \n",
    "+ Hlast ) / ( cp * ( DownHoleSteamTemp(CurrentCycleNumber) - Tr ) );    \n",
    "\n",
    "% Steam zone radius (eq 12)\n",
    "RhSteam = sqrt( VSteam / ( pi * hSt ) );                              "
   ]
  },
  {
   "cell_type": "markdown",
   "metadata": {},
   "source": [
    "We now are ready to proceed through the cycle, and simulate what occurs during the injection interval, soaking interval, and production interval."
   ]
  },
  {
   "cell_type": "code",
   "execution_count": null,
   "metadata": {
    "collapsed": true
   },
   "outputs": [],
   "source": [
    "% Oil rate vector     \n",
    "qoPreviousCycle = zeros(cycleLength(i),1);        \n",
    "\n",
    "% Average temperature vector\n",
    "TaveragePreviousCycle = zeros(cycleLength(i),1);        "
   ]
  },
  {
   "cell_type": "markdown",
   "metadata": {},
   "source": [
    "### Injection Interval\n",
    "During the injection interval the average temperature during injection = downhole steam temperature ($T_{avg} = T_s$), and of course no oil is being produced yet $q_o = 0$\n",
    "\n",
    "### Soaking Interval\n",
    "During the soaking interval, the Boberg and Lantz equations are used to evaluate the average temperature. This assumes a cylindrical shape for the heated zone. \n",
    "\n",
    "$$T_{avg} = T_R + (T_s - T_R) \\left[ f_{HD} f_{VD} (1-f_{PD}) - f_{PD} \\right ]$$\n",
    "\n",
    "The dimensionless parameters $f$ present the radial loss, vertical loss and energy removed from produced fluids. The radial loss is evaluated as:\n",
    "$$ f_{HD} = \\frac{1}{1+t_{DH}}$$\n",
    "where\n",
    "$$ t_{DH} = \\frac{\\alpha(t-t_{inj}}{R_h^2}$$\n",
    "The vertical loss is \n",
    "$$ f_{VD} = \\frac{1}{\\sqrt{1+5t_{DV}}}$$\n",
    "where\n",
    "$$ t_{DV} = \\frac{4\\alpha(t-t_{inj}}{h_t^2}$$\n",
    "\n",
    "No oil is being produced in the soaking interval either $q_o = 0$\n",
    "\n",
    "### Production Interval\n",
    "During the production interval, the average temperature is computed the same way as during the soaking interval. The oil rate is more complicated to evaluate. We start by calculating the volumetric heat capacity of oil:\n",
    "\n",
    "$$M_o = (3.085 + 0.00355T)\\sqrt{\\rho_o}$$\n",
    "\n",
    "Using this, we can evaluate the rat of heat removal from the reservoir with the produced fluids\n",
    "$$ Q_p = 5.616(q_oM_o + q_wM_w)(T_{avg}- T_R) $$\n",
    "\n",
    "The maximum amount of heat that is removed from the reservoir is given by:\n",
    "\n",
    "$$Q_{max} = H_{inj} + H_{last} - \\pi R_h^2K_R(T_s-T_R) \\sqrt{\\frac{T_{soak}}{\\pi \\alpha}} $$\n",
    "\n",
    "The energy removed from the by the fluid is:\n",
    "\n",
    "$$f^n_{PD} = (f^b_{PD})^{-1} + \\Delta f_{PD} $$\n",
    "\n",
    "where \n",
    "\n",
    "$$\\Delta f_{PD} = \\frac{5.615(q_oM_o + q_wM_w)(T^{n-1}_{avg} - T_R)\\Delta t}{2Q_{max}}$$\n",
    "\n",
    "Finally, we evaluate the updated oil viscosity:\n",
    "\n",
    "$$\\nu_o = \\alpha e^{\\frac{b}{T+480}} $$\n",
    "\n",
    "Now we have all the terms to evaluate the oil rate:\n",
    "\n",
    "$$q_o = 1.87 R_o \\sqrt{\\frac{K_o \\phi \\Delta S_o \\alpha \\Delta \\phi}{m_o \\nu_{avg} [ln \\frac{R_s}{r_w} - 0.5]}}$$\n"
   ]
  },
  {
   "cell_type": "code",
   "execution_count": null,
   "metadata": {
    "collapsed": true
   },
   "outputs": [],
   "source": [
    " % Cycling through InjectionTime + SoakTime + ProductionTime\n",
    "    for t = 1:cycleLength(CurrentCycleNumber)                                               \n",
    "        \n",
    "        % Injection Interval\n",
    "        if t <= (InjectionTime(CurrentCycleNumber))                                         \n",
    "            %Average temperature during injection = downhole steam temperature\n",
    "            Taverage = DownHoleSteamTemp(CurrentCycleNumber);                               \n",
    "            qo = 0;\n",
    "            \n",
    "        end\n",
    "        \n",
    "        % Soaking interval\n",
    "        if t > InjectionTime(CurrentCycleNumber) && ...\n",
    "                t <= (InjectionTime(CurrentCycleNumber) + ...\n",
    "                SoakTime(CurrentCycleNumber))  \n",
    "            \n",
    "            % Radial loss (eq 22)\n",
    "            tDH = alpha * ( t - InjectionTime(CurrentCycleNumber) )...\n",
    "                / RhSteam^2;             \n",
    "            fHD = 1 / ( 1 + 5 * tDH );                                      \n",
    "            \n",
    "            % Vertical loss (eq 23)\n",
    "            tDV = 4 * alpha * ( t - InjectionTime(CurrentCycleNumber) ) ...\n",
    "                / PayThickness^2;    \n",
    "            fVD = 1 / sqrt( 1 + 5 * tDV );                                  \n",
    "            \n",
    "            % Energy removed with produced fluids during soaking phase\n",
    "            fPD = 0;                       \n",
    "            \n",
    "            % Oil rate during soaking phase\n",
    "            qo = 0;                                                         \n",
    "            \n",
    "            % Average temperature at any time by Boberg and Lantz (eq 21)\n",
    "            TpreviousTimeStep = Taverage;\n",
    "            Taverage = Tr + ( DownHoleSteamTemp(CurrentCycleNumber) ...                      \n",
    "                - Tr ) * ( fHD * fVD * ( 1 - fPD ) - fPD );\n",
    "        end\n",
    "        \n",
    "        % Production Interval\n",
    "        if t > (InjectionTime(CurrentCycleNumber) + SoakTime(CurrentCycleNumber))                            \n",
    "\n",
    "            %Radial loss (eq 22)\n",
    "            tDH  = alpha * ( t - InjectionTime(CurrentCycleNumber) )...\n",
    "                / RhSteam^2;           \n",
    "            fHD = 1 / ( 1 + 5 * tDH );                                     \n",
    "            \n",
    "            % Vertical loss (eq 23)\n",
    "            tDV = 4 * alpha * ( t - InjectionTime(CurrentCycleNumber) )...\n",
    "                / PayThickness^2;   \n",
    "            fVD = 1 / sqrt( 1 + 5 * tDV );                                  \n",
    "            \n",
    "            % Registering average temperature from previous time step\n",
    "            TpreviousTimeStep = Taverage;                                  \n",
    "            \n",
    "            % Average temperature at any time by Boberg and Lantz (eq 21)\n",
    "            Taverage = Tr + ( DownHoleSteamTemp(CurrentCycleNumber) ...                      \n",
    "                - Tr ) * ( fHD * fVD * ( 1 - fPD ) - fPD );\n",
    "            \n",
    "            % Volumetric heat capacity of oil (eq 30)\n",
    "            Moil = ( 3.065 + 0.00355 * Taverage ) * sqrt( rhoOil );\n",
    "            \n",
    "            % Rate of heat removal from the reservoir with produced fluids (eq 29)\n",
    "            Qp = 5.615 * ( qo * Moil + qw * Mwater )*( Taverage - Tr );\n",
    "            \n",
    "            % Maximum amount of heat supplied to the reservoir (eq 27)\n",
    "            Qmax = HeatInjected + Hlast - pi * RhSteam^2 * lambda...\n",
    "                * (DownHoleSteamTemp(CurrentCycleNumber) - Tr) * ...\n",
    "                sqrt(SoakTime(CurrentCycleNumber)/(pi*alpha));\n",
    "                       \n",
    "            % Energy removed with produced fluids (eq 34)\n",
    "            fPD  = fPD + 5.615 * ( qo * Moil + qw * Mwater )...\n",
    "                * ( TpreviousTimeStep - Tr ) * TimeStep / ( 2 * Qmax );;\n",
    "            \n",
    "            % Oil viscosity (eq 36)\n",
    "            muOil = ( 2.698e-5 ) * exp( ( 1.066e+4 ) /( Taverage + 460 ));\n",
    "            \n",
    "            % Kinematic viscosity of the oil = oil viscosity/oil density\n",
    "            nuAverage = muOil / rhoOil;\n",
    "            \n",
    "            % Oil rate (eq 1)\n",
    "            qo = 1.87 * Rx * sqrt ( ( kro * kRes * phi * deltaSo...\n",
    "                * alpha * deltaPhi )/( 2.0  *nuAverage...\n",
    "                * ( log( Rx / rw ) - 0.5 ) ) );\n",
    "        end\n",
    "        \n",
    "        qoPreviousCycle(t) = qo;\n",
    "        TaveragePreviousCycle(t) = Taverage;\n",
    "        \n",
    "    end\n",
    "   "
   ]
  },
  {
   "cell_type": "markdown",
   "metadata": {
    "collapsed": true
   },
   "source": [
    "## Repeat For All Cycles\n",
    "We can repeat this for all cycles specified above, just with a for-loop."
   ]
  },
  {
   "cell_type": "code",
   "execution_count": null,
   "metadata": {
    "collapsed": true
   },
   "outputs": [],
   "source": [
    "for CurrentCycleNumber=1:length(SteamInjectionRate)\n",
    "    \n",
    "    % Time at beginning of each cycle\n",
    "    t=0;          \n",
    "    \n",
    "    % Figure out how much heat is already in the reservoir\n",
    "    if(CurrentCycleNumber==1)\n",
    "        Hlast = 0;        \n",
    "    else\n",
    "        % Amount of heat in the reservoir for subsequent cycles (eq 20)\n",
    "        Hlast = VSteam * cp * (Taverage - Tr);                            \n",
    "    end\n",
    "    \n",
    "    %% Evaluate water and steam thermodynamic properties\n",
    "    % Water enthalpy correlation for reservoir temperature (eq 16)\n",
    "    hwTr = 68 * ( Tr/100 )^1.24;                              \n",
    "    \n",
    "    % Water enthalpy correlation for steam temperature (eq 16)\n",
    "    hwSteam = 68 * ( DownHoleSteamTemp(CurrentCycleNumber) / 100 )^1.24;                    \n",
    "    \n",
    "    % Specific heat of water of Jones (eq 15)\n",
    "    Cw = ( hwSteam - hwTr ) / ( DownHoleSteamTemp(CurrentCycleNumber) - Tr );        \n",
    "\n",
    "    % Steam latent heat correlation of Farouq Ali (eq 17)\n",
    "    Lvdh = 94 * ( 705 - DownHoleSteamTemp(CurrentCycleNumber) )^0.38;                      \n",
    "    \n",
    "    % Amount of heat injected per unit mass of steam (eq 14)\n",
    "    Qi = Cw * ( DownHoleSteamTemp(CurrentCycleNumber) - Tr ) +...\n",
    "        Lvdh * DownHoleSteamQuality(CurrentCycleNumber);                      \n",
    "    \n",
    "    % Amount of heat injected (eq 28)\n",
    "    HeatInjected = 350 * Qi * SteamInjectionRate(CurrentCycleNumber)...\n",
    "        * InjectionTime(CurrentCycleNumber);\n",
    "        \n",
    "    % Steam pressure approximation (eq 7)\n",
    "    pSteam = ( DownHoleSteamTemp(CurrentCycleNumber) / 115.95 )^4.4543;                 \n",
    "    \n",
    "    % Steam density (eq 10)\n",
    "    rhoSteam = pSteam^( 0.9588 ) / 363.9;                                  \n",
    "    \n",
    "    % Steam viscosity (eq 11)\n",
    "    muSteam = 1e-4 * ( 0.2 * DownHoleSteamTemp(CurrentCycleNumber) + 82 );                  \n",
    "    \n",
    "    %% Evaluating the steam zone size\n",
    "    % Oil density approximation (eq 32)\n",
    "    rhoOil = rhoOilStd - 0.0214 * ( Tr - Tstd );          \n",
    "  \n",
    "    % Dimensionless group for scaling the radial steam zone (eq 9)\n",
    "    ARD = sqrt( ( 350 * 144 * SteamInjectionRate(CurrentCycleNumber) * muSteam ) / ...     \n",
    "        ( 6.328 * pi * ( rhoOil - rhoSteam ) * PayThickness^2 * ...\n",
    "        kSteam * rhoSteam ) );\n",
    "    \n",
    "    % Average steam zone thickness by Van Lookeren (eq 8)\n",
    "    hSt = 0.5 * PayThickness * ARD;             \n",
    "    \n",
    "    % Steam zone volume estimation (eq 13)\n",
    "    VSteam = ( SteamInjectionRate(CurrentCycleNumber) * ...\n",
    "        InjectionTime(CurrentCycleNumber) * rhoWater * Qi...\n",
    "        + Hlast ) / ( cp * ( DownHoleSteamTemp(CurrentCycleNumber) - Tr ) );\n",
    "    % Steam zone radius (eq 12)\n",
    "    RhSteam = sqrt( VSteam / ( pi * hSt ) );       \n",
    "    \n",
    "    % Radial distance along the hot oil zone (eq 2)\n",
    "    Rx = sqrt( RhSteam^2 + PayThickness^2 );       \n",
    "    \n",
    "    % theta = angle between steam-oil interface and reservoir bed (eq 5)\n",
    "    sinTheta = PayThickness / Rx;                                   \n",
    "    \n",
    "    % Difference between height of reservoir and steam zone thickness, (eq 6)\n",
    "    deltaH= PayThickness - hSt;  \n",
    "    \n",
    "    % Bottom hole flowing pressure (assumption)\n",
    "    pwf = 0.6 * pSteam ;                       \n",
    "    \n",
    "    % Change in enthalpy (equation 4)\n",
    "    deltaPhi = deltaH * g * sinTheta + ( ( ( pSteam - pwf )...      \n",
    "        * 6895 )/ ( rhoOil * 16.02 ) ) * 10.76;\n",
    "    \n",
    "    % Change in oil saturation (eq 3)\n",
    "    deltaSo = ( 1 - Swi ) - SorSteam; \n",
    "    \n",
    "    %% Estimate relative permeability of water and oil\n",
    "    % Cumulative water production at beginning of cycle\n",
    "    Wp = 0.0;                                                              \n",
    "    % Volumetric heat capacity of water (eq 31)\n",
    "    Mwater = Cw * rhoWater;                                         \n",
    "    % Mobile water around the well (eq 38)\n",
    "    SwBar = 1 - SorWater;                                           \n",
    "    % Water saturation  (eq 39)\n",
    "    Sw = SwBar - (SwBar - Swi) * Wp / WIP;                          \n",
    "    % Normalized water saturation (eq 40)\n",
    "    SwStar = (Sw - Swi)/(1 - Swi - SorWater);                       \n",
    "    % Water relative permeability (eq 41)\n",
    "    krw = -0.002167 * SwStar + 0.024167 * SwStar^2;           \n",
    "    \n",
    "    % Oil relative permeability (eq 43)\n",
    "    if SwStar <= 0.2\n",
    "        kro = 1.0;                                                 \n",
    "    else\n",
    "        % Oil relative permeability (eq 42)\n",
    "        kro = -0.9416 + 1.0808 / SwStar - 0.13858 / SwStar^2;     \n",
    "    end\n",
    "    \n",
    "    % Oil rate vector\n",
    "    qoPreviousCycle = zeros(cycleLength(CurrentCycleNumber),1);                            \n",
    "    \n",
    "    % Average temperature vector\n",
    "    TaveragePreviousCycle = zeros(cycleLength(CurrentCycleNumber),1);                       \n",
    "    \n",
    "    % Cycling through InjectionTime + SoakTime + ProductionTime\n",
    "    for t = 1:cycleLength(CurrentCycleNumber)                                               \n",
    "        \n",
    "        % Injection Interval\n",
    "        if t <= (InjectionTime(CurrentCycleNumber))                                         \n",
    "            %Average temperature during injection = downhole steam temperature\n",
    "            Taverage = DownHoleSteamTemp(CurrentCycleNumber);                               \n",
    "            qo = 0;\n",
    "            \n",
    "        end\n",
    "        \n",
    "        % Soaking interval\n",
    "        if t > InjectionTime(CurrentCycleNumber) && ...\n",
    "                t <= (InjectionTime(CurrentCycleNumber) + ...\n",
    "                SoakTime(CurrentCycleNumber))  \n",
    "            \n",
    "            % Radial loss (eq 22)\n",
    "            tDH = alpha * ( t - InjectionTime(CurrentCycleNumber) )...\n",
    "                / RhSteam^2;             \n",
    "            fHD = 1 / ( 1 + 5 * tDH );                                      \n",
    "            \n",
    "            % Vertical loss (eq 23)\n",
    "            tDV = 4 * alpha * ( t - InjectionTime(CurrentCycleNumber) ) ...\n",
    "                / PayThickness^2;    \n",
    "            fVD = 1 / sqrt( 1 + 5 * tDV );                                  \n",
    "            \n",
    "            % Energy removed with produced fluids during soaking phase\n",
    "            fPD = 0;                       \n",
    "            \n",
    "            % Oil rate during soaking phase\n",
    "            qo = 0;                                                         \n",
    "            \n",
    "            % Average temperature at any time by Boberg and Lantz (eq 21)\n",
    "            TpreviousTimeStep = Taverage;\n",
    "            Taverage = Tr + ( DownHoleSteamTemp(CurrentCycleNumber) ...                      \n",
    "                - Tr ) * ( fHD * fVD * ( 1 - fPD ) - fPD );\n",
    "        end\n",
    "        \n",
    "        % Production Interval\n",
    "        if t > (InjectionTime(CurrentCycleNumber) + SoakTime(CurrentCycleNumber))                            \n",
    "\n",
    "            %Radial loss (eq 22)\n",
    "            tDH  = alpha * ( t - InjectionTime(CurrentCycleNumber) )...\n",
    "                / RhSteam^2;           \n",
    "            fHD = 1 / ( 1 + 5 * tDH );                                     \n",
    "            \n",
    "            % Vertical loss (eq 23)\n",
    "            tDV = 4 * alpha * ( t - InjectionTime(CurrentCycleNumber) )...\n",
    "                / PayThickness^2;   \n",
    "            fVD = 1 / sqrt( 1 + 5 * tDV );                                  \n",
    "            \n",
    "            % Registering average temperature from previous time step\n",
    "            TpreviousTimeStep = Taverage;                                  \n",
    "            \n",
    "            % Average temperature at any time by Boberg and Lantz (eq 21)\n",
    "            Taverage = Tr + ( DownHoleSteamTemp(CurrentCycleNumber) ...                      \n",
    "                - Tr ) * ( fHD * fVD * ( 1 - fPD ) - fPD );\n",
    "            \n",
    "            % Volumetric heat capacity of oil (eq 30)\n",
    "            Moil = ( 3.065 + 0.00355 * Taverage ) * sqrt( rhoOil );\n",
    "            \n",
    "            % Rate of heat removal from the reservoir with produced fluids (eq 29)\n",
    "            Qp = 5.615 * ( qo * Moil + qw * Mwater )*( Taverage - Tr );\n",
    "            \n",
    "            % Maximum amount of heat supplied to the reservoir (eq 27)\n",
    "            Qmax = HeatInjected + Hlast - pi * RhSteam^2 * lambda...\n",
    "                * (DownHoleSteamTemp(CurrentCycleNumber) - Tr) * ...\n",
    "                sqrt(SoakTime(CurrentCycleNumber)/(pi*alpha));\n",
    "                       \n",
    "            % Energy removed with produced fluids (eq 34)\n",
    "            fPD  = fPD + 5.615 * ( qo * Moil + qw * Mwater )...\n",
    "                * ( TpreviousTimeStep - Tr ) * TimeStep / ( 2 * Qmax );;\n",
    "            \n",
    "            % Oil viscosity (eq 36)\n",
    "            muOil = ( 2.698e-5 ) * exp( ( 1.066e+4 ) /( Taverage + 460 ));\n",
    "            \n",
    "            % Kinematic viscosity of the oil = oil viscosity/oil density\n",
    "            nuAverage = muOil / rhoOil;\n",
    "            \n",
    "            % Oil rate (eq 1)\n",
    "            qo = 1.87 * Rx * sqrt ( ( kro * kRes * phi * deltaSo...\n",
    "                * alpha * deltaPhi )/( 2.0  *nuAverage...\n",
    "                * ( log( Rx / rw ) - 0.5 ) ) );\n",
    "        end\n",
    "        \n",
    "        qoPreviousCycle(t) = qo;\n",
    "        TaveragePreviousCycle(t) = Taverage;\n",
    "        \n",
    "    end\n",
    "    \n",
    "    CumulativeOil = [ CumulativeOil ; qoPreviousCycle ];\n",
    "    time_range = linspace( cumulativeCycleLength(CurrentCycleNumber) , ...\n",
    "    cumulativeCycleLength(CurrentCycleNumber+1) , ...\n",
    "    (cumulativeCycleLength(CurrentCycleNumber+1) - ...\n",
    "    cumulativeCycleLength(CurrentCycleNumber)) );\n",
    "    CumulativeTime = [ CumulativeTime ; time_range' ];\n",
    "    \n",
    "    %Plotting production\n",
    "    subplot(2,1,2)\n",
    "    plot([cumulativeCycleLength(CurrentCycleNumber):1:...\n",
    "    (cumulativeCycleLength(CurrentCycleNumber+1)')-1],...\n",
    "    qoPreviousCycle,'-','Color',[0 0.5 0],'LineWidth',2);\n",
    "    hold on;\n",
    "    xlabel('Days','FontSize',14,'FontWeight','bold');\n",
    "    ylabel('q_o (STB/day)','FontSize',14,'FontWeight','bold');\n",
    "    set(gca,'FontSize',14,'FontWeight','bold');\n",
    "    axis tight;\n",
    "    \n",
    "    % Plotting temperature\n",
    "    subplot(2,1,1);\n",
    "    plot([cumulativeCycleLength(CurrentCycleNumber):1:...\n",
    "    (cumulativeCycleLength(CurrentCycleNumber+1)')-1],...\n",
    "    TaveragePreviousCycle,'r-','LineWidth',2);\n",
    "    hold on;\n",
    "    xlabel('Days','FontSize',14,'FontWeight','bold')\n",
    "    ylabel('T_{avg}','FontSize',14,'FontWeight','bold')\n",
    "    set(gca,'FontSize',14,'FontWeight','bold');\n",
    "    axis tight;\n",
    "    \n",
    "    clear Tavg_saved qo_saved;    \n",
    "end"
   ]
  },
  {
   "cell_type": "markdown",
   "metadata": {},
   "source": [
    "We can also plot the cumulative oil production below:"
   ]
  },
  {
   "cell_type": "code",
   "execution_count": null,
   "metadata": {
    "collapsed": true
   },
   "outputs": [],
   "source": [
    "% Plotting cumulative oil production\n",
    "figure('Color','w');\n",
    "set(gcf, 'Position', get(0,'Screensize'));\n",
    "plot(CumulativeTime,cumsum(CumulativeOil),'-','Color','k','LineWidth',2);\n",
    "xlabel('Days','FontSize',14,'FontWeight','bold','Color','k')\n",
    "ylabel('Cumulative oil produced (STB)','FontSize',14,'FontWeight','bold','Color','k')\n",
    "set(gca,'FontSize',14,'FontWeight','bold');\n"
   ]
  }
 ],
 "metadata": {
  "kernelspec": {
   "display_name": "Matlab",
   "language": "matlab",
   "name": "matlab"
  },
  "language_info": {
   "codemirror_mode": "octave",
   "file_extension": ".m",
   "help_links": [
    {
     "text": "MetaKernel Magics",
     "url": "https://github.com/calysto/metakernel/blob/master/metakernel/magics/README.md"
    }
   ],
   "mimetype": "text/x-matlab",
   "name": "matlab",
   "version": "0.8.0"
  }
 },
 "nbformat": 4,
 "nbformat_minor": 0
}
