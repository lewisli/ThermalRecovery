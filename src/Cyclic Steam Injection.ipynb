{
 "cells": [
  {
   "cell_type": "markdown",
   "metadata": {},
   "source": [
    "# Cyclic Steam Injection\n",
    "\n",
    "#### Authors: Lewis Li, Daniel De Brito\n",
    "\n",
    "In this project, we will simulate the oil production, cumulative oil production and average reservoir temperature as a function of time for several cycles. We will assume that the reservoir properties are known.\n",
    "\n",
    "## Reservoir Data:"
   ]
  },
  {
   "cell_type": "code",
   "execution_count": 2,
   "metadata": {
    "collapsed": true
   },
   "outputs": [],
   "source": [
    "kRes = 1.5;                             % Reservoir permeability (D)\n",
    "kSteam = 2 * kRes;                      % Permeability to steam (D)\n",
    "phi = 0.32;                             % Porosity \n",
    "Swi = 0.25;                             % Initial water saturation\n",
    "rw = 0.31;                              % Well radius (ft)\n",
    "SorSteam = 0.05;                        % Residual oil saturation to steam \n",
    "SorWater = 0.25;                        % Residual oil saturation to water \n",
    "Tr = 110;                               % Initial reservoir temperature (F)\n",
    "Tstd = 60;                              % Standard temperature (F) \n",
    "lambda = 24;                            % Reservoir thermal conductivity (Btu/ft day F)\n",
    "alpha = 0.48;                           % Reservoir thermal diffusivity (ft^2/day)\n",
    "rhoOilStd = 61.8;                       % Oil density @ standard condictions (lb/ft^3)\n",
    "TimeStep = 1.0;                         % Time step size (days)\n",
    "PatternArea=0.588;                      % (acres) = well spacing of 160ft\n",
    "PayThickness = 80;                      % Pay thickness (ft)\n",
    "g = 32.17;                              % Gravitational acceleration (ft/s^2)"
   ]
  },
  {
   "cell_type": "markdown",
   "metadata": {},
   "source": [
    "## Operational Data\n",
    "The operational data is shown below:"
   ]
  },
  {
   "cell_type": "code",
   "execution_count": 3,
   "metadata": {
    "collapsed": true
   },
   "outputs": [],
   "source": [
    "SteamInjectionRate = [647 905 953 972 954 1042 1067];      % Steam injection rate (bbl/day)\n",
    "InjectionTime = [6 9 8 6 6 7 7];                           % Injection time (days)\n",
    "SoakTime = [5 2 10 12 9 10 11];                            % Soak time (days)\n",
    "DownHoleSteamTemp = [360 330 330 300 300 300 300];         % Downhole steam temperature (F)\n",
    "DownHoleSteamQuality = [0.7 0.6 0.5 0.5 0.5 0.5 0.5];      % Downhole steam quality \n",
    "ProductionTime = [55 146 79 98 135 136 148];               % Production time (days)\n",
    "WIP = 50000;                                               % Amount of mobile water in place at beginning of cycle (Assumption)\n",
    "qw = 0;                                                    % water production rate (BPD) (Assumption)\n",
    "CumulativeOil = [];                                        % Cumulative oil production (STB) \n",
    "CumulativeTime = [];                                       % Cumulative time (days) \n",
    "cycleLength = InjectionTime + SoakTime + ProductionTime;   % Total cycle time (days)\n",
    "cumulativeCycleLength = cumsum([1;cycleLength']);          % Cumulative cycle time (days) \n",
    "\n",
    "NumberOfCycles = length(SteamInjectionRate);"
   ]
  },
  {
   "cell_type": "markdown",
   "metadata": {},
   "source": [
    "## Cycle Initial Conditions\n",
    "For each steam cycle, we will proceed as follows. We will first demonstrate the simulation on the first cycle, then repeat for the rest of the injection cycles. We will assume that the temperature of the reservoir returns to the original reservoir temperature between each cycle, and we start by evaluating the water enthalpy correction for both the reservoir and the steam using:\n",
    "\n",
    "$$h_w = 68 \\left[ \\frac{T_s}{100} \\right]^{1.24}$$"
   ]
  },
  {
   "cell_type": "code",
   "execution_count": null,
   "metadata": {
    "collapsed": false
   },
   "outputs": [],
   "source": [
    "CurrentCycleNumber = 1;\n",
    "\n",
    "% Water enthalpy correlation for reservoir temperature (eq 16)\n",
    "hwTr = 68 * ( Tr/100 )^1.24;                                  \n",
    "\n",
    "% Water enthalpy correlation for steam temperature (eq 16)\n",
    "hwSteam = 68 * ( DownHoleSteamTemp(CurrentCycleNumber) / 100 )^1.24;   "
   ]
  },
  {
   "cell_type": "markdown",
   "metadata": {},
   "source": [
    "We next evaluate the specific heat quality of water using the Jones relation:\n",
    "$$C_w = \\frac{h_w(T_s) - h_w(T_R)}{T_s-T_R}$$"
   ]
  },
  {
   "cell_type": "code",
   "execution_count": 9,
   "metadata": {
    "collapsed": false
   },
   "outputs": [],
   "source": [
    "% Specific heat of water of Jones (eq 15)       \n",
    "Cw = ( hwSteam - hwTr ) / ( DownHoleSteamTemp(CurrentCycleNumber) - Tr );                "
   ]
  },
  {
   "cell_type": "markdown",
   "metadata": {},
   "source": [
    "We then compute the steam latent heat correction from Farouq Ali (eq 17)\n",
    "$$L_{vdh} = 94(705-T_s)^{0.38}$$ \n",
    "\n",
    "and then the amount of heat injected per unit mass of steam is:\n",
    "$$Q_i = C_w(T_s - T_R) + L_{vdh}f_{sdh}$$"
   ]
  },
  {
   "cell_type": "code",
   "execution_count": 10,
   "metadata": {
    "collapsed": false
   },
   "outputs": [],
   "source": [
    "% Steam latent heat correlation of Farouq Ali (eq 17)\n",
    "Lvdh = 94 * ( 705 - DownHoleSteamTemp(CurrentCycleNumber) )^0.38;                  \n",
    "\n",
    "% Amount of heat injected per unit mass of steam (eq 14)\n",
    "Qi = Cw * ( DownHoleSteamTemp(CurrentCycleNumber) - Tr ) +...\n",
    "        Lvdh * DownHoleSteamQuality(CurrentCycleNumber);    "
   ]
  },
  {
   "cell_type": "markdown",
   "metadata": {},
   "source": [
    "The steam properties are evaluated as:\n",
    "\n",
    "$$p_{steam} = \\left[ \\frac{T_s}{115.95}\\right]^4.4543$$\n",
    "\n",
    "$$\\rho_{steam} = \\frac{p_s^{0.9588}}{363.9}$$\n",
    "\n",
    "$$\\mu_{steam} = 10^{-4}(0.2T_s + 82)$$"
   ]
  },
  {
   "cell_type": "code",
   "execution_count": 13,
   "metadata": {
    "collapsed": false
   },
   "outputs": [],
   "source": [
    "% Steam pressure approximation (eq 7)\n",
    "pSteam = ( DownHoleSteamTemp(CurrentCycleNumber) / 115.95 )^4.4543;                 \n",
    "\n",
    "% Steam density (eq 10)\n",
    "rhoSteam = pSteam^( 0.9588 ) / 363.9;                                  \n",
    "\n",
    "% Steam viscosity (eq 11)\n",
    "muSteam = 1e-4 * ( 0.2 * DownHoleSteamTemp(CurrentCycleNumber) + 82 );                 "
   ]
  },
  {
   "cell_type": "markdown",
   "metadata": {},
   "source": [
    "The densities of oil and water are estimated as:\n",
    "$$\\rho_{o} = \\rho_{ostd} - 0.0214(T-T_{std})$$\n",
    "\n",
    "$$\\rho_{water} = 62.4 - 11 \\log \\left( \\frac{ 705 - T_{std}}{705 - T} \\right) $$"
   ]
  },
  {
   "cell_type": "code",
   "execution_count": 14,
   "metadata": {
    "collapsed": true
   },
   "outputs": [],
   "source": [
    "% Oil density approximation (eq 32)\n",
    "rhoOil = rhoOilStd - 0.0214 * ( Tr - Tstd );                           \n",
    "\n",
    "% Water density approximation (eq 33) \n",
    "rhoWater = 62.4 - 11 * log( ( 705 - Tstd ) / ( 705 - Tr ) );        "
   ]
  },
  {
   "cell_type": "markdown",
   "metadata": {},
   "source": [
    "Bulk volumetric heat capacity is evaluated as:\n",
    "\n",
    "$$(\\rho C)_t = 32.5 + (4.6 \\phi^{0.32} - 2)(10S_{wi} - 1.5)$$\n"
   ]
  },
  {
   "cell_type": "code",
   "execution_count": 15,
   "metadata": {
    "collapsed": true
   },
   "outputs": [],
   "source": [
    "% Bulk volumetric heat capacity of Jones (eq 19)  \n",
    "cp = 32.5 + (4.6 * phi^0.32 - 2) * (10 * Swi - 1.5);                  "
   ]
  },
  {
   "cell_type": "markdown",
   "metadata": {},
   "source": [
    "To estimate the steam zone thickness, we first define the dimensionaless group for scaling the radius of the steam zone:\n",
    "\n",
    "$$A_{RD} = \\sqrt{\\frac{(350)(144)Q_s\\mu_{st}}{6.328(\\rho_s - \\rho_{std})h_t^2K_{st}\\rho_{st}}}$$\n",
    "\n",
    "Average steam zone thickness by Van Lookeren is then:\n",
    "$$h_{st} = 0.5 h_t A_{rd}$$"
   ]
  },
  {
   "cell_type": "code",
   "execution_count": 17,
   "metadata": {
    "collapsed": false
   },
   "outputs": [],
   "source": [
    "% Dimensionless group for scaling the radial steam zone (eq 9) \n",
    "ARD = sqrt( ( 350 * 144 * SteamInjectionRate(CurrentCycleNumber) * muSteam ) / ...      \n",
    "          ( 6.328 * pi * ( rhoOil - rhoSteam ) * PayThickness^2 * ...\n",
    "          kSteam * rhoSteam ) ); \n",
    "% Average steam zone thickness by Van Lookeren (eq 8)            \n",
    "hSt = 0.5 * PayThickness * ARD;                                        \n",
    "\n",
    "% Cumulative water production at beginning of cycle\n",
    "Wp = 0.0;                                                              "
   ]
  },
  {
   "cell_type": "markdown",
   "metadata": {},
   "source": [
    "Evaluate how much heat is in the reservoir from previous cycles\n",
    "$$ H_{last} = V_s(\\rho C)_t(T_{avg}-T_R) $$"
   ]
  },
  {
   "cell_type": "code",
   "execution_count": null,
   "metadata": {
    "collapsed": true
   },
   "outputs": [],
   "source": [
    "if (CurrentCycleNumber == 1)\n",
    "    Hlast = 0;\n",
    "else\n",
    "    Hlast = VSteam * cp * (Taverage - Tr);  \n",
    "end"
   ]
  },
  {
   "cell_type": "markdown",
   "metadata": {},
   "source": [
    "The steam zone volume is estimated as\n",
    "$$ V_s = \\frac{Q_s t_{inj} \\rho_w Q_i + H_{last}}{(\\rho c)_t (T_s - T_R)}$$\n",
    "\n",
    "The radius of the steam zone is:\n",
    "$$R_h = \\sqrt{\\frac{V_s}{\\pi h_{st}}}$$"
   ]
  },
  {
   "cell_type": "code",
   "execution_count": 1,
   "metadata": {
    "collapsed": false
   },
   "outputs": [
    {
     "name": "stderr",
     "output_type": "stream",
     "text": [
      "Undefined function or variable 'CurrentCycleNumber'.\n"
     ]
    }
   ],
   "source": [
    "% Steam zone volume estimation (eq 13)    \n",
    "VSteam = ( SteamInjectionRate(CurrentCycleNumber) * ...\n",
    "InjectionTime(CurrentCycleNumber) * rhoWater * Qi... \n",
    "+ Hlast ) / ( cp * ( DownHoleSteamTemp(CurrentCycleNumber) - Tr ) );    \n",
    "\n",
    "% Steam zone radius (eq 12)\n",
    "RhSteam = sqrt( VSteam / ( pi * hSt ) );                              "
   ]
  },
  {
   "cell_type": "markdown",
   "metadata": {},
   "source": [
    "We now are ready to proceed through the cycle, and simulate what occurs during the injection interval, soaking interval, and production interval."
   ]
  },
  {
   "cell_type": "code",
   "execution_count": null,
   "metadata": {
    "collapsed": true
   },
   "outputs": [],
   "source": [
    "% Oil rate vector     \n",
    "qoPreviousCycle = zeros(cycleLength(i),1);        \n",
    "\n",
    "% Average temperature vector\n",
    "TaveragePreviousCycle = zeros(cycleLength(i),1);        "
   ]
  },
  {
   "cell_type": "markdown",
   "metadata": {},
   "source": [
    "### Injection Interval\n",
    "During the injection interval the average temperature during injection = downhole steam temperature ($T_{avg} = T_s$), and of course no oil is being produced yet $q_o = 0$\n",
    "\n",
    "### Soaking Interval\n",
    "During the soaking interval, the Boberg and Lantz equations are used to evaluate the average temperature. This assumes a cylindrical shape for the heated zone. \n",
    "\n",
    "$$T_{avg} = T_R + (T_s - T_R) \\left[ f_{HD} f_{VD} (1-f_{PD}) - f_{PD} \\right ]$$\n",
    "\n",
    "The dimensionless parameters $f$ present the radial loss, vertical loss and energy removed from produced fluids. The radial loss is evaluated as:\n",
    "$$ f_{HD} = \\frac{1}{1+t_{DH}}$$\n",
    "where\n",
    "$$ t_{DH} = \\frac{\\alpha(t-t_{inj}}{R_h^2}$$\n",
    "The vertical loss is \n",
    "$$ f_{VD} = \\frac{1}{\\sqrt{1+5t_{DV}}}$$\n",
    "where\n",
    "$$ t_{DV} = \\frac{4\\alpha(t-t_{inj}}{h_t^2}$$\n",
    "\n",
    "No oil is being produced in the soaking interval either $q_o = 0$\n",
    "\n",
    "### Production Interval\n",
    "During the production interval, the average temperature is computed the same way as during the soaking interval. The oil rate is more complicated to evaluate. \n"
   ]
  },
  {
   "cell_type": "code",
   "execution_count": null,
   "metadata": {
    "collapsed": true
   },
   "outputs": [],
   "source": [
    " \n",
    "for i=1:length(SteamInjectionRate) \n",
    "        \n",
    "    \n",
    "    \n",
    "   \n",
    "    for t = 1:cycleLength(i)                                               % Cycling through InjectionTime + SoakTime + ProductionTime\n",
    "                \n",
    "        if t <= (InjectionTime(i))                                         % Injection Interval \n",
    "            \n",
    "            Taverage = DownHoleSteamTemp(i);                               %Average temperature during injection = downhole steam temperature\n",
    "            qo = 0;\n",
    "            \n",
    "        end\n",
    "                \n",
    "        if t > InjectionTime(i) && t <= (InjectionTime(i) + SoakTime(i))   % Soak interval\n",
    "            \n",
    "           tDH = alpha * ( t - InjectionTime(i) ) / RhSteam^2;             % Vertical loss (eq 23)\n",
    "           fHD = 1 / ( 1 + 5 * tDH );                                      % Radial loss (eq 22)                           \n",
    "           tDV = 4 * alpha * ( t - InjectionTime(i) ) / PayThickness^2;    % (eq 25)       \n",
    "           fVD = 1 / sqrt( 1 + 5 * tDV );                                  % (eq 24)\n",
    "           fPD = 0;                                                        % Energy removed with produced fluids during soaking phase\n",
    "           qo = 0;                                                         % Oil rate during soaking phase\n",
    "           Taverage = Tr + ( DownHoleSteamTemp(i) ...                      % Average temperature at any time by Boberg and Lantz (eq 21)\n",
    "                    - Tr ) * ( fHD * fVD * ( 1 - fPD ) - fPD );            \n",
    "        end\n",
    "                \n",
    "        if t > (InjectionTime(i) + SoakTime(i))                            % Production Interval         \n",
    "            \n",
    "           tDH  = alpha * ( t - InjectionTime(i) ) / RhSteam^2;            % Vertical loss (eq 23)        \n",
    "           fHD = 1 / ( 1 + 5 * tDH );                                      % Radial loss (eq 22)  \n",
    "           tDV = 4 * alpha * ( t - InjectionTime(i) ) / PayThickness^2;    % (eq 25)            \n",
    "           fVD = 1 / sqrt( 1 + 5 * tDV );                                  % (eq 24)     \n",
    "           TpreviousTimeStep = Taverage;                                   % Registering average temperature from previous time step\n",
    "           Taverage = Tr + ( DownHoleSteamTemp(i) ...                      % Average temperature at any time by Boberg and Lantz (eq 21)\n",
    "                    - Tr ) * ( fHD * fVD * ( 1 - fPD ) - fPD );            \n",
    "           rhoOil = rhoOilStd - 0.0214 * ( Tr - Tstd );                    % Oil density approximation (eq 32)\n",
    "           Moil = ( 3.065 + 0.00355 * Taverage ) * sqrt( rhoOil );         % Volumetric heat capacity of oil (eq 30)\n",
    "           rhoWater = 62.4 - 11 * log( ( 705 - Tstd ) / ( 705 - Tr ) );    % Water density approximation (eq 33)   \n",
    "           Mwater = Cw * rhoWater;                                         % Volumetric heat capacity of water (eq 31)\n",
    "           Qp = 5.615 * ( qo * Moil + qw * Mwater )*( Taverage - Tr );     % Rate of heat removal from the reservoir with produced fluids (eq 29)\n",
    "           HeatInjected = 350 * Qi * SteamInjectionRate(i)...              % Amount of heat injected (eq 28)\n",
    "               * InjectionTime(i);     \n",
    "           Qmax = HeatInjected + Hlast - pi * RhSteam^2 * lambda...        % Maximum amount of heat supplied to the reservoir (eq 27) \n",
    "               * (DownHoleSteamTemp(i) - Tr) * sqrt(SoakTime(i)/(pi*alpha));      \n",
    "           deltafPD = 5.615 * ( qo * Moil + qw * Mwater )...               % (eq 35)\n",
    "                * ( TpreviousTimeStep - Tr ) * TimeStep / ( 2 * Qmax );             \n",
    "           fPD  = fPD + deltafPD;                                          % Energy removed with produced fluids (eq 34)\n",
    "           muOil = ( 2.698e-5 ) * exp( ( 1.066e+4 ) /( Taverage + 460 ));  % Oil viscosity (eq 36)               \n",
    "           Rx = sqrt( RhSteam^2 + PayThickness^2 );                        % Radial distance along the hot oil zone (eq 2)\n",
    "           sinTheta = PayThickness / Rx;                                   % theta = angle between steam-oil interface and reservoir bed (eq 5)       \n",
    "           deltaH= PayThickness - hSt;                                     % Difference between height of reservoir and steam zone thickness, (eq 6)\n",
    "           pwf = 0.6 * pSteam ;                                            % Bottom hole flowing pressure (assumption) \n",
    "           deltaPhi = deltaH * g * sinTheta + ( ( ( pSteam - pwf )...      % (eq 4)\n",
    "               * 6895 )/ ( rhoOil * 16.02 ) ) * 10.76;\n",
    "           SwBar = 1 - SorWater;                                           % Mobile water around the well (eq 38)\n",
    "           Sw = SwBar - (SwBar - Swi) * Wp / WIP;                          % Water saturation  (eq 39)\n",
    "           SwStar = (Sw - Swi)/(1 - Swi - SorWater);                       % Normalized water saturation (eq 40)\n",
    "           krw = -0.002167 * SwStar + 0.024167 * SwStar^2;                 % Water relative permeability (eq 41)\n",
    "           \n",
    "           if SwStar <= 0.2\n",
    "                kro = 1.0;                                                 % Oil relative permeability (eq 43)\n",
    "           else\n",
    "                kro = -0.9416 + 1.0808 / SwStar - 0.13858 / SwStar^2;      % Oil relative permeability (eq 42)\n",
    "           end\n",
    "           \n",
    "           deltaSo = ( 1 - Swi ) - SorSteam;                               % Change in oil saturation (eq 3)\n",
    "           nuAverage = muOil / rhoOil;                                     % Kinematic viscosity of the oil = oil viscosity/oil density     \n",
    "           qo = 1.87 * Rx * sqrt ( ( kro * kRes * phi * deltaSo...         % Oil rate (eq 1)\n",
    "               * alpha * deltaPhi )/( 2.0  *nuAverage...\n",
    "               * ( log( Rx / rw ) - 0.5 ) ) );          \n",
    "        end\n",
    "        \n",
    "        qoPreviousCycle(t) = qo; \n",
    "        TaveragePreviousCycle(t) = Taverage;                           \n",
    "                                \n",
    "    end        \n",
    "        \n",
    "    CumulativeOil = [ CumulativeOil ; qoPreviousCycle ];\n",
    "    time_range = linspace( cumulativeCycleLength(i) , cumulativeCycleLength(i+1) , (cumulativeCycleLength(i+1) - cumulativeCycleLength(i)) );        \n",
    "    CumulativeTime = [ CumulativeTime ; time_range' ];\n",
    "\n",
    "    %Plotting production\n",
    "    subplot(2,1,2)\n",
    "    plot([cumulativeCycleLength(i):1:(cumulativeCycleLength(i+1)')-1],qoPreviousCycle,'-','Color',[0 0.5 0],'LineWidth',2);\n",
    "    hold on;\n",
    "    xlabel('Days','FontSize',14,'FontWeight','bold');\n",
    "    ylabel('q_o (STB/day)','FontSize',14,'FontWeight','bold');\n",
    "    set(gca,'FontSize',14,'FontWeight','bold');\n",
    "    \n",
    "    % Plotting temperature\n",
    "    subplot(2,1,1);\n",
    "    plot([cumulativeCycleLength(i):1:(cumulativeCycleLength(i+1)')-1],TaveragePreviousCycle,'r-','LineWidth',2);\n",
    "    hold on;\n",
    "    xlabel('Days','FontSize',14,'FontWeight','bold')\n",
    "    ylabel('T_{avg}','FontSize',14,'FontWeight','bold')        \n",
    "    set(gca,'FontSize',14,'FontWeight','bold');\n",
    "\n",
    "    clear Tavg_saved qo_saved;    \n",
    "    \n",
    "end"
   ]
  },
  {
   "cell_type": "code",
   "execution_count": null,
   "metadata": {
    "collapsed": true
   },
   "outputs": [],
   "source": []
  }
 ],
 "metadata": {
  "kernelspec": {
   "display_name": "Matlab",
   "language": "matlab",
   "name": "matlab"
  },
  "language_info": {
   "codemirror_mode": "octave",
   "file_extension": ".m",
   "help_links": [
    {
     "text": "MetaKernel Magics",
     "url": "https://github.com/calysto/metakernel/blob/master/metakernel/magics/README.md"
    }
   ],
   "mimetype": "text/x-matlab",
   "name": "matlab",
   "version": "0.8.0"
  }
 },
 "nbformat": 4,
 "nbformat_minor": 0
}
