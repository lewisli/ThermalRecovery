{
 "cells": [
  {
   "cell_type": "markdown",
   "metadata": {},
   "source": [
    "\\author{Authors: Lewis Li, Daniel Brito}\n",
    "# Computing Wellbore and Surface Line Heat Losses\n"
   ]
  },
  {
   "cell_type": "markdown",
   "metadata": {},
   "source": [
    "## Surface Heat Losses\n",
    "We will calculate the steady state heat losses per year per 100ft as steam is injected through a pipe. We will consider 4 inch tubing in a N-80 pipe which is shown below in Figure 1. The insulation used is calcium silicate, and the thermal properties of both the pipe and insulation are shown in Table 1.\n",
    "\n",
    "<figure>\n",
    "<img src=\"../../figures/Pipe.png\" width=\"400px\"/>\n",
    "  <figcaption>Figure 1. Schematic representation of idealized thermal resistances in buried surface lines (from [1]).</figcaption>\n",
    "</figure>\n",
    "\n",
    "|Symbol    | Units   | Value   | Description  |  \n",
    "|---|---------|--------|------------------------------------------|\n",
    "|$r_i$   | ft  | 0.1478  |  inner radius of pipe |  \n",
    "|$r_o$   | ft  | 0.1667  |  outer radius of pipe |   \n",
    "|$r_{ins}$   | ft  | 0.4167  | external radius of insulation |   \n",
    "|$\\lambda_p$   | Btu/ft-D-F  | 600  | thermal conductivity of pipe   |   \n",
    "|$\\lambda_{ins}$ | BTU/ft-D-degF  | 0.96  |thermal conductivity of insulation   |    \n",
    "|$h_f$   | Btu/sq ft-D-F   | 48000  | film coefficient of heat transfer btw fluid inside the pipe and pipe wall   |   \n",
    "|$h_{fc}$   | Btu/sq ft-D-F   | 154  |  film coefficient of heat transfer due to forced convection|   \n",
    "|$h_{Pi}$   |  n/a | $\\infty$ |  coefficient of heat transfer across scale deposits |   \n",
    "|$h_{Po}$   | Btu/sq ft-D-F  | 48000  |  coeffcient of heat transfer btw pipe and insulation |   \n",
    "|$T_b$   | F  | 550  |  steam temperature |   \n",
    "|$T_a$   | F  | 60  |  ambient temperature |   \n",
    "|$L$   | ft  | 100  |  length of pipe |   \n",
    "|$t$   | days | 365  |  time period for evaluating losses |   \n",
    "\n",
    "\n",
    "We will first specify the constants:"
   ]
  },
  {
   "cell_type": "code",
   "execution_count": 1,
   "metadata": {
    "collapsed": true
   },
   "outputs": [],
   "source": [
    "ri = 0.1478;     % ft\n",
    "ro = 0.1667;     % ft\n",
    "r_ins = 0.4167;  % ft\n",
    "lamda_I = 0.96;  % Btu/ft-D-F \n",
    "lamda_P = 600;   % BTU/ft-D-degF\n",
    "hf = 48000;      % Btu/sq ft-D-F\n",
    "hfc = 154;       % Btu/sq ft-D-F\n",
    "hpi = inf;       % Btu/sq ft-D-F\n",
    "hpo = 48000;     % Btu/sq ft-D-F\n",
    "Tb = 550;        % F\n",
    "Ta = 60;         % F"
   ]
  },
  {
   "cell_type": "markdown",
   "metadata": {},
   "source": [
    "### Without Insulation\n",
    "In the first case, we assume that the pipe is not insulated. A 20 mph wind ($v_W$) is present normal to the pipe, therefore the conventive heat transform coefficient is estimated using the empirical relation from B.8 in (Prats,1985)\n",
    "$$h_{fc}r_{ins} = 18v^{0.6}_W r_{ins}^0.6$$"
   ]
  },
  {
   "cell_type": "code",
   "execution_count": 2,
   "metadata": {
    "collapsed": false
   },
   "outputs": [],
   "source": [
    "v_w = 20;      \n",
    "hfc = 18 * (v_w^0.6) * (ro^0.6) / ro;"
   ]
  },
  {
   "cell_type": "markdown",
   "metadata": {},
   "source": [
    "For a bare pipe, the effective coefficient of heat transfer $h^{bare}_{Po}$ is estimated by the sum of 110Btu/sq ft-D-F from Table B.14 (Prats,1985) and the coefficient of heat transfer due to the forced convenction $h_{fc}$."
   ]
  },
  {
   "cell_type": "code",
   "execution_count": 3,
   "metadata": {
    "collapsed": true
   },
   "outputs": [],
   "source": [
    "hrc = 110; % Btu/sq ft-D-F \n",
    "h_bare = hfc + hrc;  "
   ]
  },
  {
   "cell_type": "markdown",
   "metadata": {},
   "source": [
    "Since there is no insulation, the specific heat resistance is evaluated as:\n",
    "$$R_h = \\frac{1}{2\\pi}\\left[ \\frac{1}{h_fr_i} + \\frac{1}{h_{pi}r_i} + \\frac{1}{\\lambda_p} \\ln \\frac{r_o}{r_i} + \\frac{1}{h^{bare}_{po}r_o} \\right]$$"
   ]
  },
  {
   "cell_type": "code",
   "execution_count": 4,
   "metadata": {
    "collapsed": false
   },
   "outputs": [
    {
     "name": "stdout",
     "output_type": "stream",
     "text": [
      "R_h =\n",
      "\n",
      "    0.0029\n"
     ]
    }
   ],
   "source": [
    "R_h = (1 / (hf * ri) + 1 / (hpi * ri) + ...\n",
    "(1 / lamda_P) * log(ro/ri) + 1 / ( (h_bare) * ro ))/(2*pi)"
   ]
  },
  {
   "cell_type": "markdown",
   "metadata": {},
   "source": [
    "To compute the heat loss we need to know the steam temperature and ambient temperature. We will assume the steam is $T_b$ 500F, and ambient $T_a$ is 60F. The heat loss per unit length is then:\n",
    "\n",
    "$$Q_{loss} = \\frac{T_b-T_a}{R_h}$$"
   ]
  },
  {
   "cell_type": "code",
   "execution_count": 5,
   "metadata": {
    "collapsed": false
   },
   "outputs": [],
   "source": [
    "Qls = (Tb - Ta) / R_h; %Btu/ft-D"
   ]
  },
  {
   "cell_type": "markdown",
   "metadata": {},
   "source": [
    "For a pipe of length $L$ 100 ft over a period of 365 days $t$, the loss is:\n",
    "$$Q_l = Q_{loss} L t$$"
   ]
  },
  {
   "cell_type": "code",
   "execution_count": 6,
   "metadata": {
    "collapsed": false
   },
   "outputs": [],
   "source": [
    "L = 100; % ft\n",
    "t = 365; % days\n",
    "\n",
    "Ql = Qls * L * t; % BTU"
   ]
  },
  {
   "cell_type": "code",
   "execution_count": 7,
   "metadata": {
    "collapsed": false
   },
   "outputs": [
    {
     "name": "stdout",
     "output_type": "stream",
     "text": [
      "For an uninsulated pipe:\n",
      "Specific thermal resistance was 0.00293 BTU/ft-D\n",
      "Heat loss per unit length was 1.67e+05 BTU/ft-D\n",
      "Heat loss from 100 of pipe over 365 days was 6.11e+09 BTU\n"
     ]
    }
   ],
   "source": [
    "display('For an uninsulated pipe:');\n",
    "display(['Specific thermal resistance was ' ...\n",
    "num2str(R_h,3) ' BTU/ft-D'])\n",
    "display(['Heat loss per unit length was ' ...\n",
    "num2str(Qls,3) ' BTU/ft-D'])\n",
    "display(['Heat loss from ' num2str(L)  ...\n",
    "' of pipe over ' num2str(t) ' days was ' ...\n",
    "num2str(Ql,3) ' BTU'])"
   ]
  },
  {
   "cell_type": "markdown",
   "metadata": {},
   "source": [
    "### With Insulation"
   ]
  },
  {
   "cell_type": "markdown",
   "metadata": {},
   "source": [
    "When the pipe is insulated, we need to account for the heat loss across dart on outside of the pipe, across the insulation, and losses due to atmosphere from forced convenction. Thus, the expression for estimating specific heat resistance becomes:\n",
    "\n",
    "$$R_h = \\frac{1}{2\\pi}\\left[ \\frac{1}{h_fr_i} + \\frac{1}{h_{pi}r_i} + \\frac{1}{\\lambda_p} \\ln \\frac{r_o}{r_i} + \\frac{1}{h_{po}r_o} + \\frac{1}{\\lambda_{ins}} \\ln \\frac{r_{ins}}{r_o} + \\frac{1}{h_{fc}r_{ins}}\\right]$$"
   ]
  },
  {
   "cell_type": "code",
   "execution_count": 8,
   "metadata": {
    "collapsed": false
   },
   "outputs": [],
   "source": [
    "R_h = (1 / (hf * ri) + 1 / (hpi * ri) + ...\n",
    "(1 / lamda_P) * log(ro/ri) + 1 / ( (hpo) * ro ) + ...\n",
    "(1 / lamda_I)*log(r_ins/ro) + 1 / (hfc * r_ins) )/(2*pi);"
   ]
  },
  {
   "cell_type": "markdown",
   "metadata": {},
   "source": [
    "The heat loss per unit length is computed in the same manner as before:"
   ]
  },
  {
   "cell_type": "code",
   "execution_count": 9,
   "metadata": {
    "collapsed": true
   },
   "outputs": [],
   "source": [
    "Qls = (Tb - Ta) / R_h; %Btu/ft-D\n",
    "Ql = Qls * L * t; % BTU"
   ]
  },
  {
   "cell_type": "code",
   "execution_count": 10,
   "metadata": {
    "collapsed": false,
    "scrolled": true
   },
   "outputs": [
    {
     "name": "stdout",
     "output_type": "stream",
     "text": [
      "For an insulated pipe:\n",
      "Specific thermal resistance was 0.154 BTU/ft-D\n",
      "Heat loss per unit length was 3.19e+03 BTU/ft-D\n",
      "Heat loss from 100 of pipe over 365 days was 1.16e+08 BTU\n"
     ]
    }
   ],
   "source": [
    "display('For an insulated pipe:');\n",
    "display(['Specific thermal resistance was ' ...\n",
    "num2str(R_h,3) ' BTU/ft-D'])\n",
    "display(['Heat loss per unit length was '...\n",
    "num2str(Qls,3) ' BTU/ft-D'])\n",
    "display(['Heat loss from ' num2str(L)  ' of pipe over ' ...\n",
    "num2str(t) ' days was ' num2str(Ql,3) ' BTU'])"
   ]
  },
  {
   "cell_type": "markdown",
   "metadata": {},
   "source": [
    "## Wellbore Losses\n",
    "We now look at the heat losses within a wellbore. Steam is injected into a well that is insulated with calcium silicate. The following properties are used in this analysis.\n",
    "\n",
    "|Symbol    | Units   | Value   | Description  |  \n",
    "|---|---|---|------------------------------|\n",
    "|$T_b$   | F  | 600  |  steam temperature |   \n",
    "|$T_a$   | F  | 100  |  ambient temperature in subsurface |   \n",
    "|$t$   | days | 21  |  time period for evaluating losses | \n",
    "|$d$ | ft | 1000 | depth of well | \n",
    "|$r_o$   | ft  | 0.1458  |  outer radius of tubing |  \n",
    "|$r_{ins}$   | ft  | 0.2292  |  insulation radius|  \n",
    "|$r_{ci}$   | ft  | 0.3556  | casing inner radius | \n",
    "|$r_{co}$   | ft  | 0.401  | casing inner radius | \n",
    "|$r_w$ | ft | 0.5 | wellbore radius |\n",
    "|$\\alpha_{E}$ | sq-ft/D | 0.96 | thermal diffusivity of the earth |\n",
    "|$\\epsilon_{ins}$ | n/a | 0.9 | emissivity of insulation surface|\n",
    "|$\\epsilon_{ci}$ | n/a | 0.9 | emissivity of casing surface|\n",
    "|$\\lambda_E$   | Btu/ft-D-F  | 24  | thermal conductivity of earth   |   \n",
    "|$\\lambda_{cem}$   | Btu/ft-D-F  | 12  | thermal conductivity of cement   |   \n",
    "|$\\lambda_{ins}$   | Btu/ft-D-F  | 0.96  | thermal conductivity of insulation   |   \n",
    "|$\\lambda_{air}$   | Btu/ft-D-F  | 0.45  | thermal conductivity of air   |   \n",
    "|$\\nu_{air}$   | cP | 0.023  | air viscosity @ average annulus temperature   |   \n",
    "\n",
    "The time function for the radiation boundary condition model is given in Prats, M. 1982 and is included with the data.\n"
   ]
  },
  {
   "cell_type": "code",
   "execution_count": 11,
   "metadata": {
    "collapsed": true
   },
   "outputs": [],
   "source": [
    "clear all;\n",
    "% Temperature of steam (F)\n",
    "Tb = 600;\n",
    "% Ambient temperature of subsurface\n",
    "Ta = 100;\n",
    "% Time (days)\n",
    "time = 21;\n",
    "\n",
    "% Time function f(td) for the radiation boundary condition model\n",
    "% Table 10.1 (Prats, M. 1982)\n",
    "load('../../data/Table_10pt1_Prats.mat');\n",
    "\n",
    "tableVertical = [0.1, 0.2, 0.5, 1.0, 2.0, ...\n",
    "5.0, 10.0, 20.0, 50.0, 100.0];\n",
    "tableHorizontal = [100.0, 50.0, 20.0, 10.0, ...\n",
    "5.0, 2.0, 1.0, 0.5, 0.2, 0.1,...\n",
    "0.05, 0.02, 0.01, 0.0];\n",
    "\n",
    "% Well depth (ft)\n",
    "depth = 1000;\n",
    "% Tubing outer radius (ft)\n",
    "ro = 0.1458;\n",
    "% Insulation radius (ft)\n",
    "rIns = 0.2292;\n",
    "% Casing inner radius(ft)\n",
    "rci = 0.3556;\n",
    "% Casing outer diameter (ft)\n",
    "rco = 0.401;\n",
    "% Wellbore radius (ft)\n",
    "rw = 0.5;\n",
    "% Thermal diffusivity of the earth (sq-ft/D)\n",
    "alphaE = 0.96;\n",
    "% Emissivity of insulation surface\n",
    "epsilonIns = 0.9;\n",
    "% Emissivity of casing surface\n",
    "epsilonCi = 0.9;\n",
    "% Thermal conductivity of earth (Btu/ft-D-F)\n",
    "lambdaE = 24;\n",
    "% Thermal conductivity of cement (Btu/ft-D-F)\n",
    "lambdaCem = 12;\n",
    "% Thermal conductivity of insulation (Btu/ft-D-F)\n",
    "lambdaIns = 0.96;\n",
    "% Air viscosity @ average annulus temperature (Figure B.41)\n",
    "viscosityAir = 0.023;\n",
    "% Thermal conductivity of air (Btu/ft-D-F) (Figure B.72)\n",
    "lambdaAir = 0.45;"
   ]
  },
  {
   "cell_type": "markdown",
   "metadata": {},
   "source": [
    "The first step requires making an assumption such as the sum of all the thermal resistance is twice that due to the insulation.\n",
    "$$R_h = \\frac{2}{2\\pi} \\left[ \\frac{ \\ln(r_{ins}/r_0)}{\\lambda_{ins}} \\right]$$"
   ]
  },
  {
   "cell_type": "code",
   "execution_count": 12,
   "metadata": {
    "collapsed": false
   },
   "outputs": [
    {
     "name": "stdout",
     "output_type": "stream",
     "text": [
      "Rprime =\n",
      "\n",
      "    0.1500\n"
     ]
    }
   ],
   "source": [
    "RhGuess = (1/pi)*(log(rIns/ro))/lambdaIns;\n",
    "Rprime = RhGuess"
   ]
  },
  {
   "cell_type": "markdown",
   "metadata": {},
   "source": [
    "The next step is to evaluate $f(t_D)$ at 21 days. The dimensionalness time is evaluated using:\n",
    "$$t_D = \\frac{\\alpha_Et}{r^2_w}$$\n",
    "If this value is less than 100, we evaluate the value of $f(t_D)$ by interpolating Table 10.1 in Prats, else we evaluate the Ramey function\n",
    "$$f(t_D) \\approx \\frac{1}{2} \\ln(t_D) + 0.403$$"
   ]
  },
  {
   "cell_type": "code",
   "execution_count": 13,
   "metadata": {
    "collapsed": true
   },
   "outputs": [],
   "source": [
    "% Calculate dimensionless time\n",
    "tD = alphaE*time/(rw*rw);\n",
    "    \n",
    "if (tD > 100.0)\n",
    "    % Eqn 10.10 for tD < 100\n",
    "    func = 0.5*log(tD) + 0.403;\n",
    "else\n",
    "    lookupVal = 2*pi*Rprime*lambdaE;\n",
    "    % Interpolate table 10.1\n",
    "    func = interp2(tableHorizontal, tableVertical,...\n",
    "        Table_10pt1, lookupVal, tD);\n",
    "end"
   ]
  },
  {
   "cell_type": "markdown",
   "metadata": {},
   "source": [
    "We next evaluate the temperature at the outer radius of the annulus using Equation B.68 from Prats:\n",
    "$$T_{ci} = T_A + \\frac{T_b - T_A}{2\\pi R_h} \\left[ \\frac{\\ln(r_{co}/r_{ci})}{\\lambda_P} + \\frac{\\ln(r_{w}/r_{co})}{\\lambda_{com}} + \\frac{\\ln(r_{Ea}/r_{w})}{\\lambda_{Ea}} + \\frac{f(t_D)}{\\lambda_E} \\right]$$"
   ]
  },
  {
   "cell_type": "code",
   "execution_count": 14,
   "metadata": {
    "collapsed": true
   },
   "outputs": [],
   "source": [
    "% Step 3: Calculate Tci (temperature @ inner surface of casing)\n",
    "% Eqn B.68 (neglecting 1st and 3rd terms in parenthesis)\n",
    "Tci = Ta + ( (Tb - Ta)/(2*pi*Rprime) ) * ...\n",
    "    (log(rw/rco)/lambdaCem + func/lambdaE);"
   ]
  },
  {
   "cell_type": "markdown",
   "metadata": {},
   "source": [
    "We next calculate the temperature at the outer face of insulation using equation B.70 but only the 5th term.\n",
    "$$T_{ins} = T_b + \\frac{T_b - T_A}{2\\pi R_h} \\left[\\frac{\\ln r_{ins}/r_o}{\\lambda_{ins}} \\right]$$"
   ]
  },
  {
   "cell_type": "code",
   "execution_count": 15,
   "metadata": {
    "collapsed": true
   },
   "outputs": [],
   "source": [
    "% Step 4: Calculate Tins (temperature @ outer face of insulation)\n",
    "% Eqn B.70 (only 5th term in parenthesis)\n",
    "Tins = Tb - ((Tb - Ta)/(2*pi*Rprime))*...\n",
    "    (log(rIns/ro)/lambdaIns);"
   ]
  },
  {
   "cell_type": "markdown",
   "metadata": {},
   "source": [
    "The next step is to calculate the hRcAn coefficient of annular heat transfer due to radiation and convection. The average temperature in the annulus is hneeded to estimate air properties:\n",
    "\n",
    "$$\\overline{T_{an}} = 1/2 (T_{ins} + T_{ci}) $$\n",
    "The air in the annulus:\n",
    "$$\\rho_a = 0.076 \\left( \\frac{460 + 60}{460 + \\overline{T_{an}}} \\right)$$"
   ]
  },
  {
   "cell_type": "code",
   "execution_count": 16,
   "metadata": {
    "collapsed": false
   },
   "outputs": [
    {
     "name": "stdout",
     "output_type": "stream",
     "text": [
      "TavgAnnulus =\n",
      "\n",
      "  258.6986\n",
      "\n",
      "\n",
      "densityAir =\n",
      "\n",
      "    0.0550\n"
     ]
    }
   ],
   "source": [
    "% Average temperature @ annulus\n",
    "TavgAnnulus = 0.5*(Tins + Tci)\n",
    "densityAir = 0.076*(460 + 60)/(460 + TavgAnnulus)"
   ]
  },
  {
   "cell_type": "markdown",
   "metadata": {},
   "source": [
    "We next calculate the isobaric thermal coefficient of volume expansion for gas \n",
    "$$\\beta_R = \\frac{1}{T} + \\frac{1}{z} \\left( \\frac{dz}{dT} \\right)_p$$\n",
    "(Assuming that air is an ideal gas.) The Grashof Number $N_{Gr}$ is needed to evaluate the effective thermal conductivity of the air:\n",
    "$$N_{Gr} = 7.12e7\\frac{(r_{ci} - r_{Ins})^3\\rho_a^2\\beta_G(T_{ins} - T_{ci})}{\\nu_a^2}$$\n"
   ]
  },
  {
   "cell_type": "code",
   "execution_count": 17,
   "metadata": {
    "collapsed": false
   },
   "outputs": [
    {
     "name": "stdout",
     "output_type": "stream",
     "text": [
      "Grashof =\n",
      "\n",
      "   2.0882e+05\n"
     ]
    }
   ],
   "source": [
    "% Isobaric thermal coefficient of volume \n",
    "% expansion for gas (Assuming that air is \n",
    "% an ideal gas.)\n",
    "betaG = 1.0/(460 + TavgAnnulus);\n",
    "% Eqn B.66: Grashof number\n",
    "Grashof = 7.12e7*((rci - rIns)^3*densityAir^2*betaG*(Tins - ...\n",
    "    Tci))/(viscosityAir*viscosityAir)"
   ]
  },
  {
   "cell_type": "markdown",
   "metadata": {},
   "source": [
    "Assuming a Prandtl number $(N_{Pr})$of 0.92, the apparent thermal conductivity of air in the annulus is evaluated as:\n",
    "\n",
    "$$\\lambda_{a,a} = 0.049 \\lambda_{a}N_{Gr}^{0.333}N_{Pr}^{0.407}$$\n",
    "The radiation temperature function $F(T_{ins},T_{ci})$ is evaluated as:\n",
    "$$F(T_{ins},T_{ci}) = \\left[ (T_{ins} + 460)^2 + (460 + T_{ci})^2 \\right] (920+T_{ins} + T_{ci})$$\n",
    "The coefficient of heat transfer by radiation and convection in the annulus is given by Willhite as:\n",
    "$$h_{\\zeta c,an} = 4.11\\times 10^{-8} \\left[ \\frac{1}{\\epsilon_{ins}} + \\frac{r_{ins}}{r_{ci}} \\left( \\frac{1}{\\epsilon_{ci}} - 1 \\right) \\right]^{-1} F(T_{ins},T_{ci}) + \\frac{1}{r_e} \\frac{\\lambda_{a,a}}{ln(\\frac{r_{ci}}{r_{ins}})}$$\n"
   ]
  },
  {
   "cell_type": "code",
   "execution_count": 18,
   "metadata": {
    "collapsed": false
   },
   "outputs": [
    {
     "name": "stdout",
     "output_type": "stream",
     "text": [
      "lambdaAAn =\n",
      "\n",
      "    1.2594\n",
      "\n",
      "\n",
      "F =\n",
      "\n",
      "   1.5089e+09\n",
      "\n",
      "\n",
      "hRcAn =\n",
      "\n",
      "   64.9439\n"
     ]
    }
   ],
   "source": [
    "% Prandtl number (assumption)\n",
    "Prandtl = 0.92;\n",
    "% Eqn B.65: Apparent thermal conductivity of air in the annulus\n",
    "lambdaAAn = 0.049*lambdaAir*(Grashof^0.333)*(Prandtl^0.407)\n",
    "% Eqn B.64: Radiation temperature function\n",
    "F = ((460 + Tins)^2 + (460 + Tci)^2)*(920 + Tins + Tci)\n",
    "% Eqn B.63: Coefficient of annular heat transfer\n",
    "hRcAn = (4.11e-8 / (1/epsilonIns + (rIns/rci)*...\n",
    "    (1/epsilonCi - 1)) ) * F+(1/rIns)*...\n",
    "    lambdaAAn/log(rci/rIns)"
   ]
  },
  {
   "cell_type": "markdown",
   "metadata": {},
   "source": [
    "Finally we compute $R_h$ using Equation 10.6:\n",
    "\\begin{eqnarray}\n",
    "R_h = \\frac{1}{2\\pi} [ \\frac{1}{h_fr_i}  + \\frac{1}{h_{Pi}r_{i}} + \\frac{\\ln(r_o/r_i)}{\\lambda_P} + \\frac{1}{h_{Po}r_{o}} + \\frac{\\ln(r_{ins}/r_o)}{\\lambda_{ins}} + \\frac{1}{h_{\\zeta c,an}r_{ins}} + \\nonumber \\\\ + \\frac{\\ln(r_{co}/r_{ci})}{\\lambda_{p}} + \\frac{\\ln(r_{w}/r_{co})}{\\lambda_{cem}} + \\frac{\\ln(r_{Ea}/r_{w})}{\\lambda_{Ea}} + \\frac{f(t_D)}{\\lambda_E} ] \\nonumber \n",
    "\\end{eqnarray}\n"
   ]
  },
  {
   "cell_type": "code",
   "execution_count": 19,
   "metadata": {
    "collapsed": false
   },
   "outputs": [
    {
     "name": "stdout",
     "output_type": "stream",
     "text": [
      "Rh =\n",
      "\n",
      "    0.1059\n"
     ]
    }
   ],
   "source": [
    "% Step 6: Calculate Rh using Eqn 10.6\n",
    "% Heat loss across insulation\n",
    "Rh1 = log(rIns/ro) / lambdaIns;\n",
    "% Heat loss through radiation and convection across annulus\n",
    "Rh2 = 1.0 / (hRcAn * rIns );\n",
    "% Heat loss across cement\n",
    "Rh3 = log(rw/rco) / lambdaCem;\n",
    "% Heat loss related to thermal resistance of earth\n",
    "Rh4 = func / lambdaE;\n",
    "% Eqn 10.6: Overall coefficient of heat loss\n",
    "Rh = (1./(2*pi))* (Rh1 + Rh2 + Rh3 + Rh4)"
   ]
  },
  {
   "cell_type": "markdown",
   "metadata": {},
   "source": [
    "Since the initially assumed and calcuated values of $R_h$ in steps 1 and 6 do not agree, steps 2 to 6 are repeated until the difference between successive approximations of $R_h$ do not vary much."
   ]
  },
  {
   "cell_type": "code",
   "execution_count": 20,
   "metadata": {
    "collapsed": false
   },
   "outputs": [
    {
     "name": "stdout",
     "output_type": "stream",
     "text": [
      "Took 3 iterations for convergence\n"
     ]
    }
   ],
   "source": [
    "RhGuess = (1/pi)*(log(rIns/ro))/lambdaIns;\n",
    "Rprime = RhGuess;\n",
    "error = Inf;\n",
    "ConvergenceCriterion = 0.001;\n",
    "NumIterations = 0;\n",
    "\n",
    "% Check for convergence\n",
    "while (error > ConvergenceCriterion)\n",
    "    % Step 2: Calculate f(td) (Ramey function)\n",
    "    % Calculate dimensionless time\n",
    "    tD = alphaE*time/(rw*rw);\n",
    "    \n",
    "    if (tD > 100.0)\n",
    "        % Eqn 10.10 for tD < 100\n",
    "        func = 0.5*log(tD) + 0.403;\n",
    "    else\n",
    "        lookupVal = 2*pi*Rprime*lambdaE;\n",
    "        % Interpolate table 10.1\n",
    "        func = interp2(tableHorizontal, tableVertical,...\n",
    "            Table_10pt1, lookupVal, tD);\n",
    "    end\n",
    "\n",
    "    % Step 3: Calculate Tci (temperature @ inner \n",
    "    % surface of casing) Eqn B.68 \n",
    "    % (neglecting 1st and 3rd terms in parenthesis)\n",
    "    Tci = Ta + ( (Tb - Ta)/(2*pi*Rprime) ) * ...\n",
    "        (log(rw/rco)/lambdaCem + func/lambdaE);\n",
    "    \n",
    "    % Step 4: Calculate Tins (temperature @ outer \n",
    "    % face of insulation) Eqn B.70 \n",
    "    % (only 5th term in parenthesis)\n",
    "    Tins = Tb - ((Tb - Ta)/(2*pi*Rprime))*...\n",
    "        (log(rIns/ro)/lambdaIns);\n",
    "    \n",
    "    %Step 5: Calculate hRcAn coefficient of annular \n",
    "    % heat transfer due to radiation and convection\n",
    "    % Average temperature @ annulus\n",
    "    TavgAnnulus = 0.5*(Tins + Tci);\n",
    "    densityAir = 0.076*(460 + 60)/(460 + TavgAnnulus);\n",
    "    \n",
    "    % Isobaric thermal coefficient of volume \n",
    "    % expansion for gas (Assuming that air is \n",
    "    % an ideal gas.)\n",
    "    betaG = 1.0/(460 + TavgAnnulus);\n",
    "    % Eqn B.66: Grashof number\n",
    "    Grashof = 7.12e7*((rci - rIns)^3*densityAir^2*betaG*(Tins - ...\n",
    "        Tci))/(viscosityAir*viscosityAir);\n",
    "    % Prandtl number (assumption)\n",
    "    Prandtl = 0.92;\n",
    "    % Eqn B.65: Apparent thermal conductivity of air \n",
    "    % in the annulus\n",
    "    lambdaAAn = 0.049*lambdaAir*(Grashof^0.333)...\n",
    "    *(Prandtl^0.407);\n",
    "    % Eqn B.64: Radiation temperature function\n",
    "    F = ((460 + Tins)^2 + (460 + Tci)^2)*(920 + Tins + Tci);\n",
    "    % Eqn B.63: Coefficient of annular heat transfer\n",
    "    hRcAn = (4.11e-8 / (1/epsilonIns + (rIns/rci)*...\n",
    "        (1/epsilonCi - 1)) ) * F+(1/rIns)*...\n",
    "        lambdaAAn/log(rci/rIns);\n",
    "    \n",
    "    % Step 6: Calculate Rh using Eqn 10.6\n",
    "    % Heat loss across insulation\n",
    "    Rh1 = log(rIns/ro) / lambdaIns;\n",
    "    % Heat loss through radiation and convection \n",
    "    % across annulus\n",
    "    Rh2 = 1.0 / (hRcAn * rIns );\n",
    "    % Heat loss across cement\n",
    "    Rh3 = log(rw/rco) / lambdaCem;\n",
    "    % Heat loss related to thermal resistance of earth\n",
    "    Rh4 = func / lambdaE;\n",
    "    % Eqn 10.6: Overall coefficient of heat loss\n",
    "    Rh = (1./(2*pi))* (Rh1 + Rh2 + Rh3 + Rh4);\n",
    " \n",
    "    % Convergence check\n",
    "    error = abs(Rh - Rprime);\n",
    "    Rprime = Rh;\n",
    "    \n",
    "    NumIterations = NumIterations + 1;\n",
    "end\n",
    "\n",
    "display(['Took ' num2str(NumIterations) ...\n",
    "' iterations for convergence']);\n"
   ]
  },
  {
   "cell_type": "markdown",
   "metadata": {},
   "source": [
    "The actual heat loss is evaluated as:\n",
    "$$\\dot{Q_{ls}} = (T_b - T_A)/R_h$$\n",
    "\n",
    "The heat loss for the given depth of the well and given time period is:\n",
    "$$\\dot{Q_{t}} = \\dot{Q_{ls}} d$$"
   ]
  },
  {
   "cell_type": "code",
   "execution_count": 21,
   "metadata": {
    "collapsed": false
   },
   "outputs": [
    {
     "name": "stdout",
     "output_type": "stream",
     "text": [
      "Temperature of casing is 193.3691 degrees F\n",
      "Heat loss rate from 1000 ft. deep well after 21 days  is 4.62e+06 BTU/Day\n"
     ]
    }
   ],
   "source": [
    "%  Eqn 10.1: Heat loss per unit depth of the well (Btu/ft-D)\n",
    "Qls = (Tb - Ta) / Rh;\n",
    "% Heat loss for the given depth of the well \n",
    "% and the given time period\n",
    "Qt = Qls * depth;\n",
    "\n",
    "display(['Temperature of casing is ' num2str(Tci) ' degrees F']);\n",
    "display(['Heat loss rate from ' num2str(depth) ...\n",
    "    ' ft. deep well after ' num2str(time) ' days  is ' ...\n",
    "    num2str(Qt,'%4.2e') ' BTU/Day']);"
   ]
  },
  {
   "cell_type": "code",
   "execution_count": null,
   "metadata": {
    "collapsed": true
   },
   "outputs": [],
   "source": []
  }
 ],
 "metadata": {
  "kernelspec": {
   "display_name": "Matlab",
   "language": "matlab",
   "name": "matlab"
  },
  "language_info": {
   "codemirror_mode": "octave",
   "file_extension": ".m",
   "help_links": [
    {
     "text": "MetaKernel Magics",
     "url": "https://github.com/calysto/metakernel/blob/master/metakernel/magics/README.md"
    }
   ],
   "mimetype": "text/x-matlab",
   "name": "matlab",
   "version": "0.8.0"
  }
 },
 "nbformat": 4,
 "nbformat_minor": 0
}
