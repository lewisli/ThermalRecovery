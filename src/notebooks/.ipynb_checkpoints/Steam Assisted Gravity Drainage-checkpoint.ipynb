{
 "cells": [
  {
   "cell_type": "markdown",
   "metadata": {},
   "source": [
    "# Reservoir Parameters\n",
    "In this notebook, we will analyze the recovery and production rates in a steam assisted gravity drainage (SAGD) project. The analysis uses the data from Butler, 1991. The reservoir parameters are specified below:\n",
    "\n",
    "|Symbol    | Units   | Value   | Description  |  \n",
    "|---|---|---|---|\n",
    "|$T_r$   | C  | 15  | Reservoir temperature |  \n",
    "|$T_s$   | C  | 188  | Steam temperature |  \n",
    "|$m_{exp}$   | m | 3.4  | Kinematic viscosity exponent |  \n",
    "|$\\mu_{Bitumen,188}$   | cs | 7.8  | Bitumen kinematic  viscosity @ 188C |  \n",
    "|$r_{thickness}$   | m | 20  | Reservoir thickness |  \n",
    "|$\\alpha$| $\\frac{m^2}{D}$ |  0.07 | Thermal diffusivity |\n",
    "|$\\phi$  | % |0.33 | Porosity |\n",
    "|$S_o$ | % | 0.75 | Initial oil saturation |\n",
    "|$S_{or}$ | % |  0.13 | Residual oil saturation |\n",
    "|$K_{eff}$ | D |  0.4 | Effective permeability for oil flow |\n",
    "|$D_{well}$ | m |  2.5 | Distance between reservoir's base and producers |\n",
    "|w | m | 75 | Spacing between wells |\n",
    "|$T_{total}$ | years |  7 | Evaluation period |\n",
    "|g | $\\frac{m}{s^2}$ | 9.81 | Accelerationb due to gravity |\n"
   ]
  },
  {
   "cell_type": "code",
   "execution_count": 1,
   "metadata": {
    "collapsed": true
   },
   "outputs": [],
   "source": [
    "Tr = 15;                    % Reservoir temperature (C)\n",
    "Ts = 188;                   % Steam temperature (C)\n",
    "m_exp = 3.4;                % Kinematic viscosity exponent (m)\n",
    "mu_Bitumen188 = 7.8;        % Bitumen kinematic  viscosity @ 188C (cs)\n",
    "resThickness = 20;          % Reservoir thickness (m)\n",
    "alpha = 0.07;               % Thermal diffusivity (m^2/D)\n",
    "phi = 0.33;                 % Porosity\n",
    "S_o = 0.75;                 % Initial oil saturation\n",
    "S_or = 0.13;                % Residual oil saturation\n",
    "K_eff = 0.4;                % Effective permeability for oil flow (Darcy)\n",
    "baseWellDistance = 2.5;     % Distance between reservoir's base and producers (m)\n",
    "w = 75;                     % Spacing between wells (m)\n",
    "TotalTime = 7;              % Evaluation period (years)\n",
    "g = 9.81;                   % Gravity (m/s^2)\n",
    "\n",
    "%% Conversion Factors\n",
    "DarcyToM2 = 9.869233e-13;\n",
    "SecondsToDays = 24*60*60;\n",
    "DaysToSeconds = SecondsToDays;\n",
    "YearsToDays = 365;\n",
    "centistokesToM2S= 1e-6;"
   ]
  },
  {
   "cell_type": "markdown",
   "metadata": {},
   "source": [
    "## Computing Depletion Rates\n",
    "We will first compute the depletion rates, which depends on the position of the interface. We will express time as a dimensionless unit $T^*$:\n",
    "\n",
    "$$T^* = \\frac{t}{w} \\sqrt{\\frac{kg\\alpha}{2 \\phi \\Delta S_o m \\nu_o (T_s) h} }$$ "
   ]
  },
  {
   "cell_type": "code",
   "execution_count": 2,
   "metadata": {
    "collapsed": false
   },
   "outputs": [],
   "source": [
    "h = resThickness - baseWellDistance;    % Height\n",
    "\n",
    "tStarConstant = (2.0/w) * sqrt (((K_eff * DarcyToM2)*g*...\n",
    "    alpha/(SecondsToDays) ) / ( phi * (S_o - S_or) * ...\n",
    "    m_exp * mu_Bitumen188*centistokesToM2S * h)); "
   ]
  },
  {
   "cell_type": "markdown",
   "metadata": {},
   "source": [
    "To simplify the problem of solving for the interface position numerically, we approximate the dimensionless production rate using a polynomial:\n",
    "\n",
    "$$q* = \\sqrt{3/2} - {T^*}^2 \\sqrt{\\frac{2}{3}}$$\n",
    " \n",
    "We will compute this over the entire time period of the project (7 years) discretized into 100 time steps."
   ]
  },
  {
   "cell_type": "code",
   "execution_count": 3,
   "metadata": {
    "collapsed": false
   },
   "outputs": [],
   "source": [
    "n = 100;\n",
    "\n",
    "%Time discretization (s)\n",
    "t = linspace(0,TotalTime*YearsToDays*SecondsToDays,n);    \n",
    "\n",
    "%Time discretization (years)\n",
    "tYears = t./(YearsToDays*SecondsToDays);             \n",
    "\n",
    "tStar = tStarConstant*t;\n",
    "qStar = sqrt(3/2) - sqrt(2/3)*tStar.^2;"
   ]
  },
  {
   "cell_type": "markdown",
   "metadata": {},
   "source": [
    "Likewise, the production is given by:\n",
    "$$q = \\frac{2\\times q^*}{F} $$\n",
    "where F is a dimensionless factor given by:\n",
    "$$F = \\sqrt{\\frac{m\\nu_s}{kg\\alpha \\phi h \\Delta S_o}}$$"
   ]
  },
  {
   "cell_type": "code",
   "execution_count": 4,
   "metadata": {
    "collapsed": true
   },
   "outputs": [],
   "source": [
    "FFactor = sqrt( (m_exp*mu_Bitumen188*centistokesToM2S) /...\n",
    "    ( (K_eff * DarcyToM2) * g *(alpha/(SecondsToDays)) * ...\n",
    "    h * phi * (S_o - S_or) ) );                \n",
    "q = 2*qStar*SecondsToDays./FFactor;"
   ]
  },
  {
   "cell_type": "markdown",
   "metadata": {},
   "source": [
    "The recovery is then estimated as:\n",
    "\n",
    "$$ Rev = \\int q^* dt^*$$\n",
    "\n",
    "In this case, we can analytically integrate our expression for q* to obtain:\n",
    "\n",
    "$$ Rev = \\sqrt{\\frac{3}{2}} T^* - \\frac{1}{3} {T^*}^3 \\sqrt{\\frac{2}{3}}  $$"
   ]
  },
  {
   "cell_type": "code",
   "execution_count": 5,
   "metadata": {
    "collapsed": false
   },
   "outputs": [
    {
     "name": "stdout",
     "output_type": "stream",
     "text": [
      "DepletionResults = \n",
      "\n",
      "    'Time, years'    't*'        'q*'        'Recovery'    'q,m^3/(m day)'\n",
      "    [          0]    [     0]    [1.2247]    [       0]    [       0.1377]\n",
      "    [     0.0707]    [0.0108]    [1.2246]    [  0.0132]    [       0.1377]\n",
      "    [     0.1414]    [0.0216]    [1.2244]    [  0.0265]    [       0.1377]\n",
      "    [     0.2121]    [0.0324]    [1.2239]    [  0.0397]    [       0.1376]\n",
      "    [     0.2828]    [0.0432]    [1.2232]    [  0.0529]    [       0.1376]\n",
      "    [     0.3535]    [0.0540]    [1.2224]    [  0.0661]    [       0.1375]\n",
      "    [     0.4242]    [0.0649]    [1.2213]    [  0.0794]    [       0.1374]\n",
      "    [     0.4949]    [0.0757]    [1.2201]    [  0.0925]    [       0.1372]\n",
      "    [     0.5657]    [0.0865]    [1.2186]    [  0.1057]    [       0.1371]\n",
      "    [     0.6364]    [0.0973]    [1.2170]    [  0.1189]    [       0.1369]\n",
      "    [     0.7071]    [0.1081]    [1.2152]    [  0.1320]    [       0.1367]\n",
      "    [     0.7778]    [0.1189]    [1.2132]    [  0.1452]    [       0.1364]\n",
      "    [     0.8485]    [0.1297]    [1.2110]    [  0.1583]    [       0.1362]\n",
      "    [     0.9192]    [0.1405]    [1.2086]    [  0.1713]    [       0.1359]\n",
      "    [     0.9899]    [0.1513]    [1.2060]    [  0.1844]    [       0.1356]\n",
      "    [     1.0606]    [0.1621]    [1.2033]    [  0.1974]    [       0.1353]\n",
      "    [     1.1313]    [0.1729]    [1.2003]    [  0.2104]    [       0.1350]\n",
      "    [     1.2020]    [0.1837]    [1.1972]    [  0.2234]    [       0.1346]\n",
      "    [     1.2727]    [0.1946]    [1.1938]    [  0.2363]    [       0.1343]\n",
      "    [     1.3434]    [0.2054]    [1.1903]    [  0.2492]    [       0.1339]\n",
      "    [     1.4141]    [0.2162]    [1.1866]    [  0.2620]    [       0.1335]\n",
      "    [     1.4848]    [0.2270]    [1.1827]    [  0.2748]    [       0.1330]\n",
      "    [     1.5556]    [0.2378]    [1.1786]    [  0.2876]    [       0.1326]\n",
      "    [     1.6263]    [0.2486]    [1.1743]    [  0.3003]    [       0.1321]\n",
      "    [     1.6970]    [0.2594]    [1.1698]    [  0.3130]    [       0.1316]\n",
      "    [     1.7677]    [0.2702]    [1.1651]    [  0.3256]    [       0.1310]\n",
      "    [     1.8384]    [0.2810]    [1.1603]    [  0.3381]    [       0.1305]\n",
      "    [     1.9091]    [0.2918]    [1.1552]    [  0.3507]    [       0.1299]\n",
      "    [     1.9798]    [0.3026]    [1.1500]    [  0.3631]    [       0.1293]\n",
      "    [     2.0505]    [0.3135]    [1.1445]    [  0.3755]    [       0.1287]\n",
      "    [     2.1212]    [0.3243]    [1.1389]    [  0.3879]    [       0.1281]\n",
      "    [     2.1919]    [0.3351]    [1.1331]    [  0.4001]    [       0.1274]\n",
      "    [     2.2626]    [0.3459]    [1.1271]    [  0.4124]    [       0.1268]\n",
      "    [     2.3333]    [0.3567]    [1.1209]    [  0.4245]    [       0.1261]\n",
      "    [     2.4040]    [0.3675]    [1.1145]    [  0.4366]    [       0.1253]\n",
      "    [     2.4747]    [0.3783]    [1.1079]    [  0.4486]    [       0.1246]\n",
      "    [     2.5455]    [0.3891]    [1.1011]    [  0.4605]    [       0.1238]\n",
      "    [     2.6162]    [0.3999]    [1.0942]    [  0.4724]    [       0.1231]\n",
      "    [     2.6869]    [0.4107]    [1.0870]    [  0.4842]    [       0.1223]\n",
      "    [     2.7576]    [0.4215]    [1.0797]    [  0.4959]    [       0.1214]\n",
      "    [     2.8283]    [0.4324]    [1.0721]    [  0.5075]    [       0.1206]\n",
      "    [     2.8990]    [0.4432]    [1.0644]    [  0.5191]    [       0.1197]\n",
      "    [     2.9697]    [0.4540]    [1.0565]    [  0.5305]    [       0.1188]\n",
      "    [     3.0404]    [0.4648]    [1.0484]    [  0.5419]    [       0.1179]\n",
      "    [     3.1111]    [0.4756]    [1.0401]    [  0.5532]    [       0.1170]\n",
      "    [     3.1818]    [0.4864]    [1.0316]    [  0.5644]    [       0.1160]\n",
      "    [     3.2525]    [0.4972]    [1.0229]    [  0.5755]    [       0.1150]\n",
      "    [     3.3232]    [0.5080]    [1.0140]    [  0.5865]    [       0.1140]\n",
      "    [     3.3939]    [0.5188]    [1.0050]    [  0.5974]    [       0.1130]\n",
      "    [     3.4646]    [0.5296]    [0.9957]    [  0.6082]    [       0.1120]\n",
      "    [     3.5354]    [0.5404]    [0.9863]    [  0.6189]    [       0.1109]\n",
      "    [     3.6061]    [0.5512]    [0.9766]    [  0.6295]    [       0.1098]\n",
      "    [     3.6768]    [0.5621]    [0.9668]    [  0.6401]    [       0.1087]\n",
      "    [     3.7475]    [0.5729]    [0.9568]    [  0.6504]    [       0.1076]\n",
      "    [     3.8182]    [0.5837]    [0.9466]    [  0.6607]    [       0.1065]\n",
      "    [     3.8889]    [0.5945]    [0.9362]    [  0.6709]    [       0.1053]\n",
      "    [     3.9596]    [0.6053]    [0.9256]    [  0.6810]    [       0.1041]\n",
      "    [     4.0303]    [0.6161]    [0.9148]    [  0.6909]    [       0.1029]\n",
      "    [     4.1010]    [0.6269]    [0.9038]    [  0.7007]    [       0.1017]\n",
      "    [     4.1717]    [0.6377]    [0.8927]    [  0.7105]    [       0.1004]\n",
      "    [     4.2424]    [0.6485]    [0.8813]    [  0.7200]    [       0.0991]\n",
      "    [     4.3131]    [0.6593]    [0.8698]    [  0.7295]    [       0.0978]\n",
      "    [     4.3838]    [0.6701]    [0.8581]    [  0.7388]    [       0.0965]\n",
      "    [     4.4545]    [0.6810]    [0.8461]    [  0.7481]    [       0.0952]\n",
      "    [     4.5253]    [0.6918]    [0.8340]    [  0.7571]    [       0.0938]\n",
      "    [     4.5960]    [0.7026]    [0.8217]    [  0.7661]    [       0.0924]\n",
      "    [     4.6667]    [0.7134]    [0.8092]    [  0.7749]    [       0.0910]\n",
      "    [     4.7374]    [0.7242]    [0.7965]    [  0.7836]    [       0.0896]\n",
      "    [     4.8081]    [0.7350]    [0.7837]    [  0.7921]    [       0.0881]\n",
      "    [     4.8788]    [0.7458]    [0.7706]    [  0.8005]    [       0.0867]\n",
      "    [     4.9495]    [0.7566]    [0.7573]    [  0.8088]    [       0.0852]\n",
      "    [     5.0202]    [0.7674]    [0.7439]    [  0.8169]    [       0.0837]\n",
      "    [     5.0909]    [0.7782]    [0.7302]    [  0.8249]    [       0.0821]\n",
      "    [     5.1616]    [0.7890]    [0.7164]    [  0.8327]    [       0.0806]\n",
      "    [     5.2323]    [0.7999]    [0.7024]    [  0.8403]    [       0.0790]\n",
      "    [     5.3030]    [0.8107]    [0.6882]    [  0.8479]    [       0.0774]\n",
      "    [     5.3737]    [0.8215]    [0.6738]    [  0.8552]    [       0.0758]\n",
      "    [     5.4444]    [0.8323]    [0.6592]    [  0.8624]    [       0.0741]\n",
      "    [     5.5152]    [0.8431]    [0.6444]    [  0.8695]    [       0.0725]\n",
      "    [     5.5859]    [0.8539]    [0.6294]    [  0.8764]    [       0.0708]\n",
      "    [     5.6566]    [0.8647]    [0.6142]    [  0.8831]    [       0.0691]\n",
      "    [     5.7273]    [0.8755]    [0.5989]    [  0.8896]    [       0.0674]\n",
      "    [     5.7980]    [0.8863]    [0.5833]    [  0.8960]    [       0.0656]\n",
      "    [     5.8687]    [0.8971]    [0.5676]    [  0.9022]    [       0.0638]\n",
      "    [     5.9394]    [0.9079]    [0.5517]    [  0.9083]    [       0.0620]\n",
      "    [     6.0101]    [0.9187]    [0.5355]    [  0.9142]    [       0.0602]\n",
      "    [     6.0808]    [0.9296]    [0.5192]    [  0.9199]    [       0.0584]\n",
      "    [     6.1515]    [0.9404]    [0.5027]    [  0.9254]    [       0.0565]\n",
      "    [     6.2222]    [0.9512]    [0.4860]    [  0.9307]    [       0.0547]\n",
      "    [     6.2929]    [0.9620]    [0.4691]    [  0.9359]    [       0.0528]\n",
      "    [     6.3636]    [0.9728]    [0.4521]    [  0.9409]    [       0.0508]\n",
      "    [     6.4343]    [0.9836]    [0.4348]    [  0.9457]    [       0.0489]\n",
      "    [     6.5051]    [0.9944]    [0.4174]    [  0.9503]    [       0.0469]\n",
      "    [     6.5758]    [1.0052]    [0.3997]    [  0.9547]    [       0.0450]\n",
      "    [     6.6465]    [1.0160]    [0.3819]    [  0.9589]    [       0.0429]\n",
      "    [     6.7172]    [1.0268]    [0.3638]    [  0.9629]    [       0.0409]\n",
      "    [     6.7879]    [1.0376]    [0.3456]    [  0.9668]    [       0.0389]\n",
      "    [     6.8586]    [1.0485]    [0.3272]    [  0.9704]    [       0.0368]\n",
      "    [     6.9293]    [1.0593]    [0.3086]    [  0.9738]    [       0.0347]\n",
      "    [          7]    [1.0701]    [0.2898]    [  0.9771]    [       0.0326]\n"
     ]
    }
   ],
   "source": [
    "Recovery = sqrt(3/2)*tStar - tStar.^3*sqrt(2/3)/3;\n",
    "\n",
    "DepletionResults = [tYears' tStar' qStar' Recovery' q'];\n",
    "ColumnNames = {'Time, years', 't*', 'q*','Recovery','q,m^3/(m day)'}; \n",
    "\n",
    "DepletionResults = [ColumnNames; num2cell(DepletionResults)];\n",
    "display(DepletionResults)\n"
   ]
  },
  {
   "cell_type": "markdown",
   "metadata": {},
   "source": [
    "## Rates From Rising Steam\n",
    "We next compute the rates for the rising steam chamber using:\n",
    "\n",
    "$$q_{cum} = 2.25 \\left( \\frac{kg \\alpha}{m \\nu_s} \\right) ^\\frac{2}{3} (\\phi \\Delta S_o)^\\frac{1}{3} t^\\frac{4}{3} $$\n",
    "\n",
    "$$q = 3 \\left( \\frac{kg \\alpha}{m \\nu_s} \\right) ^\\frac{2}{3} (\\phi \\Delta S_o)^\\frac{1}{3} t^\\frac{1}{3} $$\n",
    "\n",
    "and recovery is given by:\n",
    "\n",
    "$$Rev = \\frac{q_{cum}}{h\\phi \\Delta S_o (spacing)}$$"
   ]
  },
  {
   "cell_type": "code",
   "execution_count": 6,
   "metadata": {
    "collapsed": false
   },
   "outputs": [
    {
     "name": "stdout",
     "output_type": "stream",
     "text": [
      "'Time, years'    'q,m^3/(m day)'    'Recovery'\n",
      "    [          0]    [            0]    [       0]\n",
      "    [     0.0707]    [       0.0481]    [  0.0035]\n",
      "    [     0.1414]    [       0.0606]    [  0.0087]\n",
      "    [     0.2121]    [       0.0694]    [  0.0150]\n",
      "    [     0.2828]    [       0.0763]    [  0.0220]\n",
      "    [     0.3535]    [       0.0822]    [  0.0296]\n",
      "    [     0.4242]    [       0.0874]    [  0.0378]\n",
      "    [     0.4949]    [       0.0920]    [  0.0464]\n",
      "    [     0.5657]    [       0.0962]    [  0.0555]\n",
      "    [     0.6364]    [       0.1000]    [  0.0649]\n",
      "    [     0.7071]    [       0.1036]    [  0.0747]\n",
      "    [     0.7778]    [       0.1069]    [  0.0848]\n",
      "    [     0.8485]    [       0.1101]    [  0.0952]\n",
      "    [     0.9192]    [       0.1131]    [  0.1060]\n",
      "    [     0.9899]    [       0.1159]    [  0.1170]\n",
      "    [     1.0606]    [       0.1186]    [  0.1282]\n",
      "    [     1.1313]    [       0.1212]    [  0.1397]\n",
      "    [     1.2020]    [       0.1236]    [  0.1515]\n",
      "    [     1.2727]    [       0.1260]    [  0.1635]\n",
      "    [     1.3434]    [       0.1283]    [  0.1757]\n",
      "    [     1.4141]    [       0.1305]    [  0.1882]\n",
      "    [     1.4848]    [       0.1327]    [  0.2008]\n",
      "    [     1.5556]    [       0.1347]    [  0.2137]\n",
      "    [     1.6263]    [       0.1368]    [  0.2267]\n",
      "    [     1.6970]    [       0.1387]    [  0.2400]\n",
      "    [     1.7677]    [       0.1406]    [  0.2534]\n",
      "    [     1.8384]    [       0.1425]    [  0.2670]\n",
      "    [     1.9091]    [       0.1443]    [  0.2808]\n",
      "    [     1.9798]    [       0.1460]    [  0.2947]\n",
      "    [     2.0505]    [       0.1477]    [  0.3088]\n",
      "    [     2.1212]    [       0.1494]    [  0.3231]\n",
      "    [     2.1919]    [       0.1511]    [  0.3375]\n",
      "    [     2.2626]    [       0.1527]    [  0.3521]\n",
      "    [     2.3333]    [       0.1542]    [  0.3669]\n",
      "    [     2.4040]    [       0.1558]    [  0.3818]\n",
      "    [     2.4747]    [       0.1573]    [  0.3968]\n",
      "    [     2.5455]    [       0.1588]    [  0.4120]\n",
      "    [     2.6162]    [       0.1602]    [  0.4274]\n",
      "    [     2.6869]    [       0.1617]    [  0.4428]\n",
      "    [     2.7576]    [       0.1631]    [  0.4584]\n",
      "    [     2.8283]    [       0.1645]    [  0.4742]\n",
      "    [     2.8990]    [       0.1658]    [  0.4900]\n",
      "    [     2.9697]    [       0.1672]    [  0.5060]\n",
      "    [     3.0404]    [       0.1685]    [  0.5222]\n",
      "    [     3.1111]    [       0.1698]    [  0.5384]\n",
      "    [     3.1818]    [       0.1710]    [  0.5548]\n",
      "    [     3.2525]    [       0.1723]    [  0.5713]\n",
      "    [     3.3232]    [       0.1735]    [  0.5879]\n",
      "    [     3.3939]    [       0.1748]    [  0.6047]\n",
      "    [     3.4646]    [       0.1760]    [  0.6215]\n",
      "    [     3.5354]    [       0.1772]    [  0.6385]\n",
      "    [     3.6061]    [       0.1783]    [  0.6556]\n",
      "    [     3.6768]    [       0.1795]    [  0.6728]\n",
      "    [     3.7475]    [       0.1806]    [  0.6901]\n",
      "    [     3.8182]    [       0.1818]    [  0.7075]\n",
      "    [     3.8889]    [       0.1829]    [  0.7250]\n",
      "    [     3.9596]    [       0.1840]    [  0.7426]\n",
      "    [     4.0303]    [       0.1851]    [  0.7604]\n",
      "    [     4.1010]    [       0.1861]    [  0.7782]\n",
      "    [     4.1717]    [       0.1872]    [  0.7961]\n",
      "    [     4.2424]    [       0.1883]    [  0.8142]\n",
      "    [     4.3131]    [       0.1893]    [  0.8323]\n",
      "    [     4.3838]    [       0.1903]    [  0.8506]\n",
      "    [     4.4545]    [       0.1913]    [  0.8689]\n",
      "    [     4.5253]    [       0.1924]    [  0.8873]\n",
      "    [     4.5960]    [       0.1934]    [  0.9059]\n",
      "    [     4.6667]    [       0.1943]    [  0.9245]\n",
      "    [     4.7374]    [       0.1953]    [  0.9432]\n",
      "    [     4.8081]    [       0.1963]    [  0.9621]\n",
      "    [     4.8788]    [       0.1972]    [  0.9810]\n",
      "    [     4.9495]    [       0.1982]    [  1.0000]\n"
     ]
    }
   ],
   "source": [
    "Coef1 = (((K_eff * DarcyToM2)*g*alpha/(SecondsToDays))/...\n",
    "    ( m_exp * mu_Bitumen188*centistokesToM2S ) )^(2/3);\n",
    "Coef2 = (phi * (S_o - S_or) )^(1/3);\n",
    "\n",
    "qCumRise = 2.25*Coef1*Coef2*t.^(4/3)*SecondsToDays;\n",
    "qRise = 3*Coef1*Coef2*t.^(1/3)*SecondsToDays;\n",
    "RecoveryRise = qCumRise./(h*phi*(S_o - S_or)*w*SecondsToDays);\n",
    "\n",
    "SteamResults = [tYears' qRise' RecoveryRise'];\n",
    "ColumnNames = {'Time, years', 'q,m^3/(m day)','Recovery',}; \n",
    "\n",
    "EndIndex = sum(RecoveryRise<=1)+1;\n",
    "Results = [ColumnNames; num2cell(SteamResults)];\n",
    "display(Results(1:EndIndex,:))"
   ]
  },
  {
   "cell_type": "markdown",
   "metadata": {},
   "source": [
    "## Computing the time changeover point\n",
    "The time changeover is the intersection point of both curves."
   ]
  },
  {
   "cell_type": "code",
   "execution_count": 7,
   "metadata": {
    "collapsed": false
   },
   "outputs": [
    {
     "name": "stdout",
     "output_type": "stream",
     "text": [
      "The changeover point occurs at 0.13488 and recovery of 0.21457\n",
      "Corresponds to 541.9697 days production from steam\n",
      "Corresponds to 387.1212 days production from depletion\n",
      "Yields a difference of 154.8485 days\n"
     ]
    }
   ],
   "source": [
    "warning('off','all')\n",
    "addpath('../matlab')\n",
    "[RecoveryIntersection,qIntersection] = ...\n",
    "    intersections(Recovery',q,RecoveryRise',qRise,1); \n",
    "\n",
    "% Determine time step where intersect occurs for depletion\n",
    "RecoveryRow = sum(Recovery<=RecoveryIntersection);\n",
    "\n",
    "% Determine time step where intersect occurs for depletion\n",
    "RecoveryRiseRow = sum(RecoveryRise<=RecoveryIntersection);\n",
    "\n",
    "timeCalcDepletion = YearsToDays * tYears(RecoveryRow-1);\n",
    "timeCalcSteam = YearsToDays * tYears(RecoveryRiseRow-1);\n",
    "deltaTime = timeCalcSteam - timeCalcDepletion;\n",
    "\n",
    "display(['The changeover point occurs at ' num2str(qIntersection) ...\n",
    "    ' and recovery of ' num2str(RecoveryIntersection)]);\n",
    "display(['Corresponds to ' num2str(timeCalcSteam) ...\n",
    "    ' days production from steam']);\n",
    "display(['Corresponds to ' num2str(timeCalcDepletion) ...\n",
    "    ' days production from depletion']);\n",
    "display(['Yields a difference of ' num2str(deltaTime) ' days']);\n"
   ]
  },
  {
   "cell_type": "markdown",
   "metadata": {},
   "source": [
    "## Computing the Response Rates"
   ]
  },
  {
   "cell_type": "code",
   "execution_count": 8,
   "metadata": {
    "collapsed": false
   },
   "outputs": [
    {
     "name": "stderr",
     "output_type": "stream",
     "text": [
      "Undefined function or variable 'DaysToSeconds'.\n"
     ]
    }
   ],
   "source": [
    "% The rates for production are from steam until the changeover point, and\n",
    "% then the rates are from depeletion.\n",
    "ChangeOverTime = timeCalcSteam/YearsToDays;\n",
    "StepSize = 0.25;\n",
    "\n",
    "% Steam-based production (computed as function of time in seconds)\n",
    "\n",
    "timeSteam = (0:StepSize:1.5)*ChangeOverTime*YearsToDays*DaysToSeconds;\n",
    "qCumSteam = (2.25 * Coef1 * Coef2 * (timeSteam).^(4/3)) * DaysToSeconds;\n",
    "qSteam = (3 * Coef1 * Coef2 * (timeSteam).^(1/3)) * DaysToSeconds;        \n",
    "RecoverySteam = qCumSteam ./ ( h*phi*(S_o - S_or)*w*DaysToSeconds );\n",
    "\n",
    "% Set up time for depeletion (including time correction)\n",
    "StepSize = 0.05;\n",
    "timeDepletion = (0:(ChangeOverTime*StepSize):(TotalTime+2) - ...\n",
    "    deltaTime/YearsToDays) * YearsToDays*DaysToSeconds; \n",
    "tStarDepletion = tStarConstant * timeDepletion; \n",
    "qStarDepletion = sqrt(1.5) - (tStarDepletion.^2)*sqrt(2/3);\n",
    "q = 2 * qStarDepletion * (DaysToSeconds)/( FFactor ); \n",
    "recoveryFactor = sqrt(3/2)*tStarDepletion - ...\n",
    "    (1/3)*(tStarDepletion.^3)*sqrt(2/3); \n",
    "\n",
    "figure;\n",
    "FontSize = 15;\n",
    "hold on;\n",
    "plot(RecoverySteam,qSteam);\n",
    "plot(recoveryFactor,q);\n",
    "axis tight;\n",
    "ylabel('Production rate, m^3/day','Fontsize', FontSize) % label left y-axis\n",
    "xlabel('Recovery, fraction','Fontsize', FontSize) % label right y-axis\n",
    "legend('Steam','Depletion');\n",
    "set(gca,'FontSize',FontSize);\n"
   ]
  },
  {
   "cell_type": "code",
   "execution_count": 9,
   "metadata": {
    "collapsed": false
   },
   "outputs": [
    {
     "name": "stderr",
     "output_type": "stream",
     "text": [
      "Undefined function or variable 'DaysToSeconds'.\n"
     ]
    }
   ],
   "source": [
    "% Convert time from seconds to years and remove time correction\n",
    "timeSteamYears = (1/(YearsToDays*DaysToSeconds)) * timeSteam; \n",
    "timeDepletionYears = (1/(YearsToDays*DaysToSeconds)) * ...\n",
    "    timeDepletion + deltaTime/YearsToDays; \n",
    "\n",
    "% Find when steam time ends and depeletion starts\n",
    "SteamEndTime = sum(timeSteamYears<=ChangeOverTime);\n",
    "DepletionStartTime = find(timeDepletionYears>=ChangeOverTime,1);\n",
    "\n",
    "qTotal = [(qSteam(:,1:SteamEndTime))';(q(:,DepletionStartTime:end))'];\n",
    "timeTotal = [(timeSteamYears(:,1:SteamEndTime))' ; ...\n",
    "    (timeDepletionYears(:,DepletionStartTime:end))'];\n",
    "\n",
    "qStarTotal = [ zeros(SteamEndTime,1); ...\n",
    "    (qStarDepletion(:,DepletionStartTime:end))'];\n",
    "tStarTotal = [ zeros(SteamEndTime,1); ...\n",
    "    (tStarDepletion(:,DepletionStartTime:end))'];\n",
    "RecoveryTotal = [ (RecoverySteam(:,1:SteamEndTime))'; ...\n",
    "    (recoveryFactor(:,DepletionStartTime:end))'];\n",
    "\n",
    "figure\n",
    "[haxes,hline1,hline2] = plotyy(timeTotal,qTotal,timeTotal, ...\n",
    "    RecoveryTotal,'plot','plot');\n",
    "ylabel(haxes(1),'Production rate, m^3/day','Fontsize', ...\n",
    "    FontSize) % label left y-axis\n",
    "ylabel(haxes(2),'Recovery, fraction','Fontsize', ...\n",
    "    FontSize) % label right y-axis\n",
    "xlabel(haxes(2),'Time (years)', 'Fontsize', ...\n",
    "    FontSize) % label x-axis\n",
    "\n",
    "Nticks = 5;\n",
    "FontSize = 12;\n",
    "set(haxes,'XLim',[0 TotalTime])\n",
    "set(haxes(1),'YLim',[0 max(qTotal)]);\n",
    "set(haxes(1),'ytick',linspace(0, max(qTotal), Nticks));\n",
    "set(haxes(2),'YLim',[0 max(RecoveryTotal)]);\n",
    "set(haxes(2),'ytick',linspace(0, max(RecoveryTotal), Nticks));\n",
    "set(gcf,'color','w');\n",
    "set(haxes(1),'FontSize',FontSize);\n",
    "set(haxes(2),'FontSize',FontSize);"
   ]
  },
  {
   "cell_type": "code",
   "execution_count": 10,
   "metadata": {
    "collapsed": false
   },
   "outputs": [
    {
     "name": "stderr",
     "output_type": "stream",
     "text": [
      "Undefined function or variable 'timeTotal'.\n"
     ]
    }
   ],
   "source": [
    "TotalResults = [timeTotal qTotal tStarTotal qStarTotal RecoveryTotal];\n",
    "ColumnNames = {'Time, years', 'q,m^3/(m day)','t*','q*','Recovery'}; \n",
    "TotalResults = [ColumnNames; num2cell(TotalResults)];\n",
    "\n",
    "EndIndex = sum(timeTotal<=TotalTime)+1;\n",
    "display(TotalResults(1:EndIndex,:))\n"
   ]
  },
  {
   "cell_type": "code",
   "execution_count": null,
   "metadata": {
    "collapsed": true
   },
   "outputs": [],
   "source": []
  }
 ],
 "metadata": {
  "kernelspec": {
   "display_name": "Matlab",
   "language": "matlab",
   "name": "matlab"
  },
  "language_info": {
   "file_extension": ".m",
   "help_links": [
    {
     "text": "MetaKernel Magics",
     "url": "https://github.com/calysto/metakernel/blob/master/metakernel/magics/README.md"
    }
   ],
   "mimetype": "text/x-octave",
   "name": "matlab",
   "version": "0.9.2"
  }
 },
 "nbformat": 4,
 "nbformat_minor": 0
}
