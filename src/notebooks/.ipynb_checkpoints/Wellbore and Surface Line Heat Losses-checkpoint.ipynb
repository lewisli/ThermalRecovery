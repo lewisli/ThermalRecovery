{
 "cells": [
  {
   "cell_type": "markdown",
   "metadata": {},
   "source": [
    "# Computing Wellbore and Surface Line Heat Losses\n",
    "By Lewis Li, Daniel Brito\n",
    "\n",
    "Date: May 12th 2016\n"
   ]
  },
  {
   "cell_type": "markdown",
   "metadata": {},
   "source": [
    "## Surface Heat Losses\n",
    "We will calculate the steady state heat losses per year per 100ft as steam is injected through a pipe. We will consider 4 inch tubing in a N-80 pipe which is shown below in Figure 1. The insulation used is calcium silicate, and the thermal properties of both the pipe and insulation are shown in Table 1.\n",
    "\n",
    "<figure>\n",
    "<img src=\"../figures/Pipe.png\" width=\"400px\"/>\n",
    "  <figcaption>Figure 1. Schematic representation of idealized thermal resistances in buried surface lines (from [1]).</figcaption>\n",
    "</figure>\n",
    "\n",
    "|Symbol    | Units   | Value   | Description  |  \n",
    "|---|---|---|---|\n",
    "|$r_i$   | ft  | 0.1478  |  inner radius of pipe |  \n",
    "|$r_o$   | ft  | 0.1667  |  outer radius of pipe |   \n",
    "|$r_{ins}$   | ft  | 0.4167  | external radius of insulation |   \n",
    "|$\\lambda_p$   | Btu/ft-D-F  | 0.96  | thermal conductivity of pipe   |   \n",
    "|$\\lambda_{ins}$ | BTU/ft-D-degF  | 600  |thermal conductivity of insulation   |    \n",
    "|$h_f$   | Btu/sq ft-D-F   | 48000  | film coefficient of heat transfer btw fluid inside the pipe and pipe wall   |   \n",
    "|$h_{fc}$   | Btu/sq ft-D-F   | 154  |  film coefficient of heat transfer due to forced convection|   \n",
    "|$h_{Pi}$   |  n/a | $\\infty$ |  coefficient of heat transfer across scale deposits |   \n",
    "|$h_{Po}$   | Btu/sq ft-D-F  | 48000  |  coeffcient of heat transfer btw pipe and insulation |   \n",
    "|$T_b$   | F  | 550  |  steam temperature |   \n",
    "|$T_a$   | F  | 60  |  ambient temperature |   \n",
    "|$L$   | ft  | 100  |  length of pipe |   \n",
    "|$t$   | days | 365  |  time period for evaluating losses |   \n",
    "\n",
    "\n",
    "We will first specify the constants:"
   ]
  },
  {
   "cell_type": "code",
   "execution_count": 1,
   "metadata": {
    "collapsed": true
   },
   "outputs": [],
   "source": [
    "ri = 0.1478;     % ft\n",
    "ro = 0.1667;     % ft\n",
    "r_ins = 0.4167;  % ft\n",
    "lamda_I = 0.96;  % Btu/ft-D-F \n",
    "lamda_P = 600;   % BTU/ft-D-degF\n",
    "hf = 48000;      % Btu/sq ft-D-F\n",
    "hfc = 154;       % Btu/sq ft-D-F\n",
    "hpi = inf;       % Btu/sq ft-D-F\n",
    "hpo = 48000;     % Btu/sq ft-D-F\n",
    "Tb = 550;        % F\n",
    "Ta = 60;         % F"
   ]
  },
  {
   "cell_type": "markdown",
   "metadata": {},
   "source": [
    "### Without Insulation\n",
    "In the first case, we assume that the pipe is not insulated. A 20 mph wind ($v_W$) is present normal to the pipe, therefore the conventive heat transform coefficient is estimated using the empirical relation from B.8 in (Prats,1985)\n",
    "$$h_{fc}r_{ins} = 18v^{0.6}_W r_{ins}^0.6$$"
   ]
  },
  {
   "cell_type": "code",
   "execution_count": 2,
   "metadata": {
    "collapsed": false
   },
   "outputs": [],
   "source": [
    "v_w = 20;      \n",
    "hfc = 18 * (v_w^0.6) * (ro^0.6) / ro;"
   ]
  },
  {
   "cell_type": "markdown",
   "metadata": {},
   "source": [
    "For a bare pipe, the effective coefficient of heat transfer $h^{bare}_{Po}$ is estimated by the sum of 110Btu/sq ft-D-F from Table B.14 (Prats,1985) and the coefficient of heat transfer due to the forced convenction $h_{fc}$."
   ]
  },
  {
   "cell_type": "code",
   "execution_count": 3,
   "metadata": {
    "collapsed": true
   },
   "outputs": [],
   "source": [
    "hrc = 110; % Btu/sq ft-D-F \n",
    "h_bare = hfc + hrc;  "
   ]
  },
  {
   "cell_type": "markdown",
   "metadata": {},
   "source": [
    "Since there is no insulation, the specific heat resistance is evaluated as:\n",
    "$$R_h = \\frac{1}{2\\pi}\\left[ \\frac{1}{h_fr_i} + \\frac{1}{h_{pi}r_i} + \\frac{1}{\\lambda_p} \\ln \\frac{r_o}{r_i} + \\frac{1}{h^{bare}_{po}r_o} \\right]$$"
   ]
  },
  {
   "cell_type": "code",
   "execution_count": 4,
   "metadata": {
    "collapsed": false
   },
   "outputs": [
    {
     "name": "stdout",
     "output_type": "stream",
     "text": [
      "R_h =\n",
      "\n",
      "    0.0029\n"
     ]
    }
   ],
   "source": [
    "R_h = (1 / (hf * ri) + 1 / (hpi * ri) + ...\n",
    "(1 / lamda_P) * log(ro/ri) + 1 / ( (h_bare) * ro ))/(2*pi)"
   ]
  },
  {
   "cell_type": "markdown",
   "metadata": {},
   "source": [
    "To compute the heat loss we need to know the steam temperature and ambient temperature. We will assume the steam is $T_b$ 500F, and ambient $T_a$ is 60F. The heat loss per unit length is then:\n",
    "\n",
    "$$Q_{loss} = \\frac{T_b-T_a}{R_h}$$"
   ]
  },
  {
   "cell_type": "code",
   "execution_count": 5,
   "metadata": {
    "collapsed": false
   },
   "outputs": [],
   "source": [
    "Qls = (Tb - Ta) / R_h; %Btu/ft-D"
   ]
  },
  {
   "cell_type": "markdown",
   "metadata": {},
   "source": [
    "For a pipe of length $L$ 100 ft over a period of 365 days $t$, the loss is:\n",
    "$$Q_l = Q_{loss} L t$$"
   ]
  },
  {
   "cell_type": "code",
   "execution_count": 6,
   "metadata": {
    "collapsed": false
   },
   "outputs": [],
   "source": [
    "L = 100; % ft\n",
    "t = 365; % days\n",
    "\n",
    "Ql = Qls * L * t; % BTU"
   ]
  },
  {
   "cell_type": "code",
   "execution_count": 7,
   "metadata": {
    "collapsed": false
   },
   "outputs": [
    {
     "name": "stdout",
     "output_type": "stream",
     "text": [
      "For an uninsulated pipe:\n",
      "Specific thermal resistance was 0.00293 BTU/ft-D\n",
      "Heat loss per unit length was 1.67e+05 BTU/ft-D\n",
      "Heat loss from 100 of pipe over 365 days was 6.11e+09 BTU\n"
     ]
    }
   ],
   "source": [
    "display('For an uninsulated pipe:');\n",
    "display(['Specific thermal resistance was ' ...\n",
    "num2str(R_h,3) ' BTU/ft-D'])\n",
    "display(['Heat loss per unit length was ' ...\n",
    "num2str(Qls,3) ' BTU/ft-D'])\n",
    "display(['Heat loss from ' num2str(L)  ...\n",
    "' of pipe over ' num2str(t) ' days was ' ...\n",
    "num2str(Ql,3) ' BTU'])"
   ]
  },
  {
   "cell_type": "markdown",
   "metadata": {},
   "source": [
    "### With Insulation"
   ]
  },
  {
   "cell_type": "markdown",
   "metadata": {},
   "source": [
    "When the pipe is insulated, we need to account for the heat loss across dart on outside of the pipe, across the insulation, and losses due to atmosphere from forced convenction. Thus, the expression for estimating specific heat resistance becomes:\n",
    "\n",
    "$$R_h = \\frac{1}{2\\pi}\\left[ \\frac{1}{h_fr_i} + \\frac{1}{h_{pi}r_i} + \\frac{1}{\\lambda_p} \\ln \\frac{r_o}{r_i} + \\frac{1}{h_{po}r_o} + \\frac{1}{\\lambda_{ins}} \\ln \\frac{r_{ins}}{r_o} + \\frac{1}{h_{fc}r_{ins}}\\right]$$"
   ]
  },
  {
   "cell_type": "code",
   "execution_count": 8,
   "metadata": {
    "collapsed": false
   },
   "outputs": [],
   "source": [
    "R_h = (1 / (hf * ri) + 1 / (hpi * ri) + ...\n",
    "(1 / lamda_P) * log(ro/ri) + 1 / ( (hpo) * ro ) + ...\n",
    "(1 / lamda_I)*log(r_ins/ro) + 1 / (hfc * r_ins) )/(2*pi);"
   ]
  },
  {
   "cell_type": "markdown",
   "metadata": {},
   "source": [
    "The heat loss per unit length is computed in the same manner as before:"
   ]
  },
  {
   "cell_type": "code",
   "execution_count": 9,
   "metadata": {
    "collapsed": true
   },
   "outputs": [],
   "source": [
    "Qls = (Tb - Ta) / R_h; %Btu/ft-D\n",
    "Ql = Qls * L * t; % BTU"
   ]
  },
  {
   "cell_type": "code",
   "execution_count": 10,
   "metadata": {
    "collapsed": false
   },
   "outputs": [
    {
     "name": "stdout",
     "output_type": "stream",
     "text": [
      "For an insulated pipe:\n",
      "Specific thermal resistance was 0.154 BTU/ft-D\n",
      "Heat loss per unit length was 3.19e+03 BTU/ft-D\n",
      "Heat loss from 100 of pipe over 365 days was 1.16e+08 BTU\n"
     ]
    }
   ],
   "source": [
    "display('For an insulated pipe:');\n",
    "display(['Specific thermal resistance was ' ...\n",
    "num2str(R_h,3) ' BTU/ft-D'])\n",
    "display(['Heat loss per unit length was '...\n",
    "num2str(Qls,3) ' BTU/ft-D'])\n",
    "display(['Heat loss from ' num2str(L)  ' of pipe over ' ...\n",
    "num2str(t) ' days was ' num2str(Ql,3) ' BTU'])"
   ]
  },
  {
   "cell_type": "markdown",
   "metadata": {},
   "source": [
    "## Wellbore Losses\n",
    "We now look at the heat losses within a wellbore."
   ]
  },
  {
   "cell_type": "code",
   "execution_count": null,
   "metadata": {
    "collapsed": true
   },
   "outputs": [],
   "source": [
    "We "
   ]
  }
 ],
 "metadata": {
  "kernelspec": {
   "display_name": "Matlab",
   "language": "matlab",
   "name": "matlab"
  },
  "language_info": {
   "file_extension": ".m",
   "help_links": [
    {
     "text": "MetaKernel Magics",
     "url": "https://github.com/calysto/metakernel/blob/master/metakernel/magics/README.md"
    }
   ],
   "mimetype": "text/x-octave",
   "name": "matlab",
   "version": "0.9.2"
  }
 },
 "nbformat": 4,
 "nbformat_minor": 0
}
