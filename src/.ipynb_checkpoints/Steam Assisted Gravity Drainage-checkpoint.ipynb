{
 "cells": [
  {
   "cell_type": "code",
   "execution_count": 1,
   "metadata": {
    "collapsed": true
   },
   "outputs": [],
   "source": [
    "Tr = 15;                    % Reservoir temperature (C)\n",
    "Ts = 188;                   % Steam temperature (C)\n",
    "KmuExp = 3.4;               % Kinematic viscosity exponent (m)\n",
    "MuOil = 100000;             % Oil viscosity @ Tr (cs)\n",
    "rhoBitumen = 1.0;           % g/cm^3\n",
    "KmuBitumen100 = 80;         % Bitumen kinematic viscosity @ 100C (cs)\n",
    "KmuBitumen188 = 7.8;        % Bitumen kinematic  viscosity @ 188C (cs)\n",
    "muBitumen100 = 80;          % Bitumen viscosity @ 100C (cs)\n",
    "resThickness = 20;          % Reservoir thickness (m)\n",
    "alpha = 0.07;               % Thermal diffusivity (m^2/D)\n",
    "phi = 0.33;                 % Porosity\n",
    "So = 0.75;                  % Initial oil saturation\n",
    "Sor = 0.13;                 % Residual oil saturation\n",
    "Keff = 0.4;                 % Effective permeability for oil flow (Darcy)\n",
    "pSteam = 1.2;               % Steam pressure (MPa)\n",
    "baseWellDistance = 2.5;     % Distance between reservoir's base and producers (m)\n",
    "w = 75;                     % Spacing between wells (m)\n",
    "evalPeriod = 7;             % Evaluation period (years)\n",
    "g = 9.81;                   % Gravity (m/s^2)"
   ]
  },
  {
   "cell_type": "code",
   "execution_count": 30,
   "metadata": {
    "collapsed": false
   },
   "outputs": [],
   "source": [
    "\n",
    "%% Step 1: Calculate rates for depletion   \n",
    "h = resThickness - baseWellDistance;    % Height\n",
    "\n",
    "tStarConstant = (2.0/w) * sqrt ( ( (Keff * 9.869233e-13) * g * alpha/(24*60*60) ) / ...\n",
    "                   ( phi * (So - Sor) * KmuExp * KmuBitumen188*1e-6 * h)); \n",
    "               \n",
    "FFactor = sqrt( (KmuExp*KmuBitumen188*1e-6) /...\n",
    "    ( (Keff * 9.869233e-13) * g *(alpha/(24*60*60)) * h * phi * (So - Sor) ) );                \n",
    "\n",
    "t = linspace(0,7*365*24*60*60,100);     %Time discretization (s)\n",
    "tYears = t./(365*24*60*60);             %Time discretization (years)\n",
    "n = length(t);\n",
    "tStar = zeros(n,1);\n",
    "qStar = zeros(n,1);\n",
    "q = zeros(n,1);\n",
    "Recovery = zeros(n,1);\n",
    "\n",
    "SecondsInDay = 60*60*24;\n",
    "\n",
    "tStar = tStarConstant*t;\n",
    "qStar = sqrt(1.5) - sqrt(2/3) * tStar.^2;\n",
    "q = 2*qStar*SecondsInDay;\n",
    "Recovery = sqrt(1.5)*tStar - tStar.^3*sqrt(2/3)/3;\n",
    "Recovery = Recovery';\n"
   ]
  },
  {
   "cell_type": "code",
   "execution_count": 31,
   "metadata": {
    "collapsed": false
   },
   "outputs": [
    {
     "name": "stdout",
     "output_type": "stream",
     "text": [
      "RecoveryRise =\n",
      "\n",
      "  Columns 1 through 7\n",
      "\n",
      "         0    0.0035    0.0087    0.0150    0.0220    0.0296    0.0378\n",
      "\n",
      "  Columns 8 through 14\n",
      "\n",
      "    0.0464    0.0555    0.0649    0.0747    0.0848    0.0952    0.1060\n",
      "\n",
      "  Columns 15 through 21\n",
      "\n",
      "    0.1170    0.1282    0.1397    0.1515    0.1635    0.1757    0.1882\n",
      "\n",
      "  Columns 22 through 28\n",
      "\n",
      "    0.2008    0.2137    0.2267    0.2400    0.2534    0.2670    0.2808\n",
      "\n",
      "  Columns 29 through 35\n",
      "\n",
      "    0.2947    0.3088    0.3231    0.3375    0.3521    0.3669    0.3818\n",
      "\n",
      "  Columns 36 through 42\n",
      "\n",
      "    0.3968    0.4120    0.4274    0.4428    0.4584    0.4742    0.4900\n",
      "\n",
      "  Columns 43 through 49\n",
      "\n",
      "    0.5060    0.5222    0.5384    0.5548    0.5713    0.5879    0.6047\n",
      "\n",
      "  Columns 50 through 56\n",
      "\n",
      "    0.6215    0.6385    0.6556    0.6728    0.6901    0.7075    0.7250\n",
      "\n",
      "  Columns 57 through 63\n",
      "\n",
      "    0.7426    0.7604    0.7782    0.7961    0.8142    0.8323    0.8506\n",
      "\n",
      "  Columns 64 through 70\n",
      "\n",
      "    0.8689    0.8873    0.9059    0.9245    0.9432    0.9621    0.9810\n",
      "\n",
      "  Columns 71 through 77\n",
      "\n",
      "    1.0000    1.0191    1.0382    1.0575    1.0769    1.0963    1.1158\n",
      "\n",
      "  Columns 78 through 84\n",
      "\n",
      "    1.1355    1.1552    1.1750    1.1948    1.2148    1.2348    1.2549\n",
      "\n",
      "  Columns 85 through 91\n",
      "\n",
      "    1.2751    1.2954    1.3158    1.3362    1.3567    1.3773    1.3980\n",
      "\n",
      "  Columns 92 through 98\n",
      "\n",
      "    1.4188    1.4396    1.4605    1.4815    1.5025    1.5236    1.5448\n",
      "\n",
      "  Columns 99 through 100\n",
      "\n",
      "    1.5661    1.5875\n"
     ]
    }
   ],
   "source": [
    "qCumRise = zeros(n,1); \n",
    "qRise = zeros(n,1); \n",
    "RecoveryRise = zeros(n,1);\n",
    "Coef1 = ( ( (Keff * 9.869233e-13) * g * alpha/(SecondsInDay) ) /...\n",
    "    ( KmuExp * KmuBitumen188*1e-6 ) )^(2/3);\n",
    "Coef2 = (phi * (So - Sor) )^(1/3);\n",
    "\n",
    "\n",
    "qCumRise = 2.25 * Coef1 * Coef2 * (t.^(4/3)) * (SecondsInDay);    \n",
    "qRise = 3 * Coef1 * Coef2 * (t.^(1/3)) * (SecondsInDay);\n",
    "RecoveryRise = qCumRise ./ ( h * phi * (So - Sor) * w * (SecondsInDay) );\n",
    "RecoveryRise = RecoveryRise';"
   ]
  },
  {
   "cell_type": "code",
   "execution_count": 26,
   "metadata": {
    "collapsed": false
   },
   "outputs": [
    {
     "name": "stdout",
     "output_type": "stream",
     "text": [
      "RecoveryIntersection =\n",
      "\n",
      "   Empty matrix: 0-by-1\n"
     ]
    }
   ],
   "source": [
    "%% Step 3: Find the time changeover point\n",
    "[RecoveryIntersection,qIntersection] = ...\n",
    "intersections(Recovery,q,RecoveryRise,qRise,1); % Call to matlab function\n",
    "\n",
    "RecoveryRow=1;\n",
    "\n",
    "while Recovery(RecoveryRow,1)<=RecoveryIntersection %determining time for intersection for depletion\n",
    "    RecoveryRow=RecoveryRow+1\n",
    "end\n",
    "RecoveryIntersection\n",
    "RecoveryRiseRow=1;\n",
    "while RecoveryRise(RecoveryRiseRow,1)<RecoveryIntersection %determining time for intersection for steam\n",
    "    RecoveryRiseRow=RecoveryRiseRow+1\n",
    "end\n",
    "\n",
    "%timeCalcDepletion = 365 * tYears(RecoveryRow-1);\n",
    "%timeCalcSteam = 365 * tYears(RecoveryRiseRow-1);\n",
    "%deltaTime = timeCalcSteam - timeCalcDepletion;\n",
    "%fprintf('The changeover point occurs at %4.3f m^3/m day, and recovery of %4.2f. \\n',qIntersection,RecoveryIntersection)    \n",
    "%fprintf('This point corresponds to %.0f days for production from steam.\\n',timeCalcSteam);\n",
    "%fprintf('This point corresponds to %.0f days for production from depletion.\\n',timeCalcDepletion);\n",
    "%fprintf('(%.0f days difference)\\n',deltaTime)"
   ]
  },
  {
   "cell_type": "code",
   "execution_count": 5,
   "metadata": {
    "collapsed": false
   },
   "outputs": [],
   "source": [
    "%%  Step 4: Calculate the actual rates\n",
    "timeSteam = [0, 0.5, 1, timeCalcSteam/365, 2] * 365*24*60*60; % seconds\n",
    "timeDepletion = ([0, 2, 3, 4, 5, 6, 7, 8] - deltaTime/365) * 365*24*60*60; % seconds (including time correction)\n",
    "\n",
    "% depletion-based production\n",
    "tStarDepletion = tStarConstant * timeDepletion; \n",
    "qStarDepletion = sqrt(1.5) - (tStarDepletion.^2)*sqrt(2/3);\n",
    "q = 2 * qStarDepletion * (24*60*60)/( FFactor ); \n",
    "recoveryFactor = sqrt(3/2)*tStarDepletion - (1/3)*(tStarDepletion.^3)*sqrt(2/3); \n",
    "\n",
    "% steam-based production:\n",
    "qCumSteam = (2.25 * Coef1 * Coef2 * (timeSteam).^(4/3)) * (24*60*60) ;\n",
    "qSteam = (3 * Coef1 * Coef2 * (timeSteam).^(1/3)) * (24*60*60);        \n",
    "RecoverySteam = qCumSteam ./ ( h*phi*(So - Sor)*w*24*60*60 );"
   ]
  },
  {
   "cell_type": "code",
   "execution_count": 6,
   "metadata": {
    "collapsed": true
   },
   "outputs": [],
   "source": [
    "%% Step 5: Tabulate and plot results\n",
    "\n",
    "timeSteam = (1/(365*24*60*60)) * timeSteam; % years\n",
    "timeDepletion = (1/(365*24*60*60)) * timeDepletion + deltaTime/365; % (removing time correction)\n",
    "qTotal = [(qSteam(:,1:4))' ; (q(:,2:7))'];\n",
    "timeTotal = [(timeSteam(:,1:4))' ; (timeDepletion(:,2:7))'];\n",
    "qStarTotal = [ zeros((length(timeSteam)-1),1); (qStarDepletion(:,2:7))' ];\n",
    "tStarTotal = [ zeros((length(timeSteam)-1),1); (tStarDepletion(:,2:7))' ];\n",
    "RecoveryTotal = [ (RecoverySteam(:,1:4))'; (recoveryFactor(:,2:7))'];"
   ]
  },
  {
   "cell_type": "code",
   "execution_count": 7,
   "metadata": {
    "collapsed": false
   },
   "outputs": [
    {
     "name": "stdout",
     "output_type": "stream",
     "text": [
      "Results are as follows: \n",
      "\n",
      "  time       q (m^3/m day)       t_star       q_star       Recovery  \n",
      "         0         0         0         0         0\n",
      "    0.5000    0.0923         0         0    0.0470\n",
      "    1.0000    0.1163         0         0    0.1186\n",
      "    1.5556    0.1347         0         0    0.2137\n",
      "    2.0000    0.1324    0.2409    1.1774    0.2912\n",
      "    3.0000    0.1235    0.3937    1.0982    0.4656\n",
      "    4.0000    0.1103    0.5466    0.9808    0.6250\n",
      "    5.0000    0.0928    0.6995    0.8253    0.7635\n",
      "    6.0000    0.0710    0.8524    0.6316    0.8754\n",
      "    7.0000    0.0450    1.0052    0.3997    0.9547\n"
     ]
    }
   ],
   "source": [
    "results = zeros(length(timeTotal),5);\n",
    "results(:,1) = timeTotal;\n",
    "results(:,2) = qTotal;\n",
    "results(:,3) = tStarTotal;\n",
    "results(:,4) = qStarTotal;\n",
    "results(:,5) = RecoveryTotal;\n",
    "\n",
    "fprintf('\\n Results are as follows: \\n\\n');\n",
    "\n",
    "disp('  time       q (m^3/m day)       t_star       q_star       Recovery  ')\n",
    "disp(results)"
   ]
  },
  {
   "cell_type": "code",
   "execution_count": 8,
   "metadata": {
    "collapsed": false
   },
   "outputs": [
    {
     "data": {
      "image/png": "[encoded data removed]",
      "text/plain": [
       "<IPython.core.display.Image object>"
      ]
     },
     "metadata": {},
     "output_type": "display_data"
    }
   ],
   "source": [
    "plot(recoveryFactor,q,RecoverySteam,qSteam);\n",
    "axis([0 1 0 0.145]);\n",
    "ylabel('Production rate, m^3/day','Fontsize', 16, 'FontWeight', 'bold','Color','b') % label left y-axis\n",
    "xlabel('Recovery, fraction','Fontsize', 16, 'FontWeight', 'bold','Color',[0 0.5 0]) % label right y-axis"
   ]
  },
  {
   "cell_type": "code",
   "execution_count": 9,
   "metadata": {
    "collapsed": false
   },
   "outputs": [
    {
     "data": {
      "image/png": "[encoded data removed]",
      "text/plain": [
       "<IPython.core.display.Image object>"
      ]
     },
     "metadata": {},
     "output_type": "display_data"
    }
   ],
   "source": [
    "[haxes,hline1,hline2] = plotyy(timeTotal,qTotal,timeTotal, RecoveryTotal,'plot','plot');\n",
    "ylabel(haxes(1),'Production rate, m^3/day','Fontsize', 16, 'FontWeight', 'bold','Color','b') % label left y-axis\n",
    "ylabel(haxes(2),'Recovery, fraction','Fontsize', 16, 'FontWeight', 'bold','Color',[0 0.5 0]) % label right y-axis\n",
    "xlabel(haxes(2),'Time (years)', 'Fontsize', 16, 'FontWeight', 'bold','Color','k') % label x-axis\n",
    "set(hline1,'LineWidth',4,'Color','b');\n",
    "set(hline2,'LineWidth',4,'Color',[0 0.5 0]);\n",
    "set(haxes,'FontSize',16,'FontWeight','bold');"
   ]
  },
  {
   "cell_type": "code",
   "execution_count": null,
   "metadata": {
    "collapsed": true
   },
   "outputs": [],
   "source": []
  }
 ],
 "metadata": {
  "kernelspec": {
   "display_name": "Matlab",
   "language": "matlab",
   "name": "matlab"
  },
  "language_info": {
   "codemirror_mode": "octave",
   "file_extension": ".m",
   "help_links": [
    {
     "text": "MetaKernel Magics",
     "url": "https://github.com/calysto/metakernel/blob/master/metakernel/magics/README.md"
    }
   ],
   "mimetype": "text/x-matlab",
   "name": "matlab",
   "version": "0.8.0"
  }
 },
 "nbformat": 4,
 "nbformat_minor": 0
}
